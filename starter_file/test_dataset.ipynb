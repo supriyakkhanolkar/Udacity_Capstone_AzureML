{
 "cells": [
  {
   "cell_type": "code",
   "execution_count": null,
   "metadata": {},
   "outputs": [],
   "source": [
    "from sklearn.linear_model import LogisticRegression\n",
    "import numpy as np\n",
    "from sklearn.model_selection import train_test_split\n",
    "import pandas as pd\n",
    "from azureml.core.run import Run"
   ]
  },
  {
   "cell_type": "code",
   "execution_count": null,
   "metadata": {},
   "outputs": [],
   "source": [
    "def clean_data(data):\n",
    "    x_df = dataset.to_pandas_dataframe()\n",
    "    y_df = x_df.pop(\"diagnosis\").apply(lambda s: 1 if s == \"M\" else 0)\n",
    "    \n",
    "    #Add return statement for this function\n",
    "    return x_df, y_df\n",
    "  \n",
    "data_key = \"cancer-dataset\"\n",
    "if data_key in ws.datasets.keys():\n",
    "    dataset = ws.datasets[data_key]\n",
    "\n",
    "    from azureml.core import Workspace, Dataset\n",
    "\n",
    "print(\"getting run object\")\n",
    "run = Run.get_context()\n",
    "\n",
    "print(\"getting workspace\")\n",
    "ws = run.experiment.workspace\n",
    "\n",
    "print(\"Cleaning data\")\n",
    "x, y = clean_data(dataset)\n",
    "\n",
    "print(\"Splitting data\")\n",
    "x_train, x_test, y_train, y_test = train_test_split(x, y, test_size=0.33, random_state=0)\n",
    "\n",
    "print(\"Calling LogisticRegression\")\n",
    "model = LogisticRegression(C=np.float(\"3.12345678901\"), max_iter=np.int(\"12\")).fit(x_train, y_train)"
   ]
  }
 ],
 "metadata": {
  "kernelspec": {
   "display_name": "Python 3",
   "language": "python",
   "name": "python3"
  },
  "language_info": {
   "codemirror_mode": {
    "name": "ipython",
    "version": 3
   },
   "file_extension": ".py",
   "mimetype": "text/x-python",
   "name": "python",
   "nbconvert_exporter": "python",
   "pygments_lexer": "ipython3",
   "version": "3.8.3"
  }
 },
 "nbformat": 4,
 "nbformat_minor": 4
}
