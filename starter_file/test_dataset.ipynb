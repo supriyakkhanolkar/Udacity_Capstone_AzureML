{
  "cells": [
    {
      "cell_type": "code",
      "source": [
        "from sklearn.linear_model import LogisticRegression\n",
        "import numpy as np\n",
        "from sklearn.model_selection import train_test_split\n",
        "import pandas as pd\n",
        "from azureml.core.run import Run\n",
        "from azureml.core import Workspace, Dataset"
      ],
      "outputs": [],
      "execution_count": 1,
      "metadata": {
        "gather": {
          "logged": 1612073096614
        }
      }
    },
    {
      "cell_type": "code",
      "source": [
        "def clean_data(data):\n",
        "    x_df = dataset.to_pandas_dataframe()\n",
        "    y_df = x_df.pop(\"diagnosis\").apply(lambda s: 1 if s == \"M\" else 0)\n",
        "    \n",
        "    #Add return statement for this function\n",
        "    return x_df, y_df\n",
        "\n",
        "print(\"getting run object\")\n",
        "run = Run.get_context()\n",
        "\n",
        "print(\"getting workspace\")\n",
        "#ws = run.experiment.workspace\n",
        "ws = Workspace.from_config()\n",
        "\n",
        "print(\"getting dataset\")\n",
        "data_key = \"cancer-dataset\"\n",
        "if data_key in ws.datasets.keys():\n",
        "    dataset = ws.datasets[data_key]\n",
        "\n",
        "print(\"Cleaning data\")\n",
        "x, y = clean_data(dataset)\n",
        "\n",
        "print(\"Splitting data\")\n",
        "x_train, x_test, y_train, y_test = train_test_split(x, y, test_size=0.33, random_state=0)\n",
        "\n",
        "print(\"Calling LogisticRegression\")\n",
        "model = LogisticRegression(C=np.float(\"3.12345678901\"), max_iter=np.int(\"12\")).fit(x_train, y_train)"
      ],
      "outputs": [
        {
          "output_type": "stream",
          "name": "stdout",
          "text": [
            "getting run object\n",
            "getting workspace\n",
            "Performing interactive authentication. Please follow the instructions on the terminal.\n",
            "To sign in, use a web browser to open the page https://microsoft.com/devicelogin and enter the code FZX526HSR to authenticate.\n",
            "You have logged in. Now let us find all the subscriptions to which you have access...\n",
            "Interactive authentication successfully completed.\n",
            "getting dataset\n",
            "Cleaning data\n",
            "Splitting data\n",
            "Calling LogisticRegression\n"
          ]
        }
      ],
      "execution_count": 4,
      "metadata": {
        "gather": {
          "logged": 1612073261199
        }
      }
    }
  ],
  "metadata": {
    "kernelspec": {
      "name": "python3",
      "language": "python",
      "display_name": "Python 3"
    },
    "language_info": {
      "name": "python",
      "version": "3.6.9",
      "mimetype": "text/x-python",
      "codemirror_mode": {
        "name": "ipython",
        "version": 3
      },
      "pygments_lexer": "ipython3",
      "nbconvert_exporter": "python",
      "file_extension": ".py"
    },
    "kernel_info": {
      "name": "python3"
    },
    "nteract": {
      "version": "nteract-front-end@1.0.0"
    }
  },
  "nbformat": 4,
  "nbformat_minor": 4
}