{
  "cells": [
    {
      "cell_type": "markdown",
      "source": [
        "# Automated ML\n",
        "\n",
        "TODO: Import Dependencies. In the cell below, import all the dependencies that you will need to complete the project."
      ],
      "metadata": {}
    },
    {
      "cell_type": "code",
      "source": [
        "import azureml.core\n",
        "from azureml.core import Workspace, Experiment\n",
        "from azureml.core.compute import ComputeTarget, AmlCompute\n",
        "from azureml.core.compute_target import ComputeTargetException\n",
        "from azureml.widgets import RunDetails\n",
        "from azureml.train.sklearn import SKLearn\n",
        "import joblib\n",
        "from azureml.data.dataset_factory import TabularDatasetFactory\n",
        "from azureml.train.automl import AutoMLConfig\n",
        "from azureml.pipeline.core import Pipeline\n",
        "import json\n",
        "import requests\n",
        "import pickle\n",
        "from azureml.core.environment import Environment\n",
        "from azureml.core.model import InferenceConfig\n",
        "from azureml.core.webservice import AciWebservice"
      ],
      "outputs": [],
      "execution_count": 2,
      "metadata": {
        "gather": {
          "logged": 1612702176792
        },
        "jupyter": {
          "outputs_hidden": false,
          "source_hidden": false
        },
        "nteract": {
          "transient": {
            "deleting": false
          }
        }
      }
    },
    {
      "cell_type": "markdown",
      "source": [
        "## Dataset\n",
        "\n",
        "### Overview\n",
        "TODO: In this markdown cell, give an overview of the dataset you are using. Also mention the task you will be performing.\n",
        "\n",
        "\n",
        "TODO: Get data. In the cell below, write code to access the data you will be using in this project. Remember that the dataset needs to be external."
      ],
      "metadata": {}
    },
    {
      "cell_type": "code",
      "source": [
        "# Check core SDK version number\n",
        "print(\"SDK version:\", azureml.core.VERSION)\n",
        "\n",
        "## Getting available workspace\n",
        "ws = Workspace.from_config()\n",
        "\n",
        "experiment_name = 'my-automl-project'\n",
        "\n",
        "exp = Experiment(workspace=ws, name=experiment_name)\n",
        "\n",
        "print('Workspace name: ' + ws.name, \n",
        "      'Azure region: ' + ws.location, \n",
        "      'Subscription id: ' + ws.subscription_id, \n",
        "      'Resource group: ' + ws.resource_group, sep = '\\n')\n",
        "\n",
        "run = exp.start_logging()"
      ],
      "outputs": [
        {
          "output_type": "stream",
          "name": "stdout",
          "text": [
            "SDK version: 1.20.0\n",
            "Workspace name: quick-starts-ws-137837\n",
            "Azure region: southcentralus\n",
            "Subscription id: 6b4af8be-9931-443e-90f6-c4c34a1f9737\n",
            "Resource group: aml-quickstarts-137837\n"
          ]
        }
      ],
      "execution_count": 3,
      "metadata": {
        "gather": {
          "logged": 1612702185889
        },
        "jupyter": {
          "outputs_hidden": false,
          "source_hidden": false
        },
        "nteract": {
          "transient": {
            "deleting": false
          }
        }
      }
    },
    {
      "cell_type": "code",
      "source": [
        "## Creating compute cluster\n",
        "cluster_name = \"my-cluster\"\n",
        "\n",
        "# Verify that cluster does not exist already\n",
        "try:\n",
        "    compute_target = ComputeTarget(workspace=ws, name=cluster_name)\n",
        "    print('Found existing cluster, use it.')\n",
        "except ComputeTargetException:\n",
        "    compute_config = AmlCompute.provisioning_configuration(vm_size='STANDARD_D2_V2',# for GPU, use \"STANDARD_NC6\"\n",
        "                                                           #vm_priority = 'lowpriority', # optional\n",
        "                                                           max_nodes=4)\n",
        "    compute_target = ComputeTarget.create(ws, cluster_name, compute_config)\n",
        "\n",
        "compute_target.wait_for_completion(show_output=True, min_node_count = 1, timeout_in_minutes = 1)\n",
        "# For a more detailed view of current AmlCompute status, use get_status()."
      ],
      "outputs": [
        {
          "output_type": "stream",
          "name": "stdout",
          "text": [
            "Found existing cluster, use it.\n",
            "Succeeded\n",
            "AmlCompute wait for completion finished\n",
            "\n",
            "Minimum number of nodes requested have been provisioned\n"
          ]
        }
      ],
      "execution_count": 4,
      "metadata": {
        "gather": {
          "logged": 1612702192889
        }
      }
    },
    {
      "cell_type": "code",
      "source": [
        "# Try to load the dataset from the Workspace. Otherwise, create it from the file\n",
        "# NOTE: update the key to match the dataset name\n",
        "datastore= ws.get_default_datastore()\n",
        "\n",
        "data_key = \"cancer-dataset\"\n",
        "found = False\n",
        "\n",
        "if data_key in ws.datasets.keys():\n",
        "    found = True\n",
        "    dataset = ws.datasets[data_key]\n",
        "\n",
        "if not found:\n",
        "    # Upload csv file into default datastore\n",
        "    print(\"uploading csv file\")\n",
        "    datastore.upload_files(files = ['./breast_cancer_dataset.csv'],\n",
        "                       target_path = 'train-dataset/tabular/',\n",
        "                       overwrite = True,\n",
        "                       show_progress = True)\n",
        "        \n",
        "    # Create AML Dataset and register it into Workspace\n",
        "    print(\"creating dataset\")\n",
        "    dataset = Dataset.Tabular.from_delimited_files(path = [(datastore, './breast_cancer_dataset.csv')])\n",
        "        \n",
        "    #Register Dataset in Workspace\n",
        "    print(\"registering dataset\")\n",
        "    dataset = dataset.register(workspace=ws,\n",
        "                               name=data_key)\n",
        "    print(\"created dataset\")\n",
        "        \n",
        "df = dataset.to_pandas_dataframe()\n",
        "df.describe()"
      ],
      "outputs": [
        {
          "output_type": "execute_result",
          "execution_count": 5,
          "data": {
            "text/plain": "                 id  radius_mean  texture_mean  perimeter_mean    area_mean  \\\ncount  5.690000e+02   569.000000    569.000000      569.000000   569.000000   \nmean   3.037183e+07    14.127292     19.289649       91.969033   654.889104   \nstd    1.250206e+08     3.524049      4.301036       24.298981   351.914129   \nmin    8.670000e+03     6.981000      9.710000       43.790000   143.500000   \n25%    8.692180e+05    11.700000     16.170000       75.170000   420.300000   \n50%    9.060240e+05    13.370000     18.840000       86.240000   551.100000   \n75%    8.813129e+06    15.780000     21.800000      104.100000   782.700000   \nmax    9.113205e+08    28.110000     39.280000      188.500000  2501.000000   \n\n       smoothness_mean  compactness_mean  concavity_mean  concave points_mean  \\\ncount       569.000000        569.000000      569.000000           569.000000   \nmean          0.096360          0.104341        0.088799             0.048919   \nstd           0.014064          0.052813        0.079720             0.038803   \nmin           0.052630          0.019380        0.000000             0.000000   \n25%           0.086370          0.064920        0.029560             0.020310   \n50%           0.095870          0.092630        0.061540             0.033500   \n75%           0.105300          0.130400        0.130700             0.074000   \nmax           0.163400          0.345400        0.426800             0.201200   \n\n       symmetry_mean  ...  radius_worst  texture_worst  perimeter_worst  \\\ncount     569.000000  ...    569.000000     569.000000       569.000000   \nmean        0.181162  ...     16.269190      25.677223       107.261213   \nstd         0.027414  ...      4.833242       6.146258        33.602542   \nmin         0.106000  ...      7.930000      12.020000        50.410000   \n25%         0.161900  ...     13.010000      21.080000        84.110000   \n50%         0.179200  ...     14.970000      25.410000        97.660000   \n75%         0.195700  ...     18.790000      29.720000       125.400000   \nmax         0.304000  ...     36.040000      49.540000       251.200000   \n\n        area_worst  smoothness_worst  compactness_worst  concavity_worst  \\\ncount   569.000000        569.000000         569.000000       569.000000   \nmean    880.583128          0.132369           0.254265         0.272188   \nstd     569.356993          0.022832           0.157336         0.208624   \nmin     185.200000          0.071170           0.027290         0.000000   \n25%     515.300000          0.116600           0.147200         0.114500   \n50%     686.500000          0.131300           0.211900         0.226700   \n75%    1084.000000          0.146000           0.339100         0.382900   \nmax    4254.000000          0.222600           1.058000         1.252000   \n\n       concave points_worst  symmetry_worst  fractal_dimension_worst  \ncount            569.000000      569.000000               569.000000  \nmean               0.114606        0.290076                 0.083946  \nstd                0.065732        0.061867                 0.018061  \nmin                0.000000        0.156500                 0.055040  \n25%                0.064930        0.250400                 0.071460  \n50%                0.099930        0.282200                 0.080040  \n75%                0.161400        0.317900                 0.092080  \nmax                0.291000        0.663800                 0.207500  \n\n[8 rows x 31 columns]",
            "text/html": "<div>\n<style scoped>\n    .dataframe tbody tr th:only-of-type {\n        vertical-align: middle;\n    }\n\n    .dataframe tbody tr th {\n        vertical-align: top;\n    }\n\n    .dataframe thead th {\n        text-align: right;\n    }\n</style>\n<table border=\"1\" class=\"dataframe\">\n  <thead>\n    <tr style=\"text-align: right;\">\n      <th></th>\n      <th>id</th>\n      <th>radius_mean</th>\n      <th>texture_mean</th>\n      <th>perimeter_mean</th>\n      <th>area_mean</th>\n      <th>smoothness_mean</th>\n      <th>compactness_mean</th>\n      <th>concavity_mean</th>\n      <th>concave points_mean</th>\n      <th>symmetry_mean</th>\n      <th>...</th>\n      <th>radius_worst</th>\n      <th>texture_worst</th>\n      <th>perimeter_worst</th>\n      <th>area_worst</th>\n      <th>smoothness_worst</th>\n      <th>compactness_worst</th>\n      <th>concavity_worst</th>\n      <th>concave points_worst</th>\n      <th>symmetry_worst</th>\n      <th>fractal_dimension_worst</th>\n    </tr>\n  </thead>\n  <tbody>\n    <tr>\n      <th>count</th>\n      <td>5.690000e+02</td>\n      <td>569.000000</td>\n      <td>569.000000</td>\n      <td>569.000000</td>\n      <td>569.000000</td>\n      <td>569.000000</td>\n      <td>569.000000</td>\n      <td>569.000000</td>\n      <td>569.000000</td>\n      <td>569.000000</td>\n      <td>...</td>\n      <td>569.000000</td>\n      <td>569.000000</td>\n      <td>569.000000</td>\n      <td>569.000000</td>\n      <td>569.000000</td>\n      <td>569.000000</td>\n      <td>569.000000</td>\n      <td>569.000000</td>\n      <td>569.000000</td>\n      <td>569.000000</td>\n    </tr>\n    <tr>\n      <th>mean</th>\n      <td>3.037183e+07</td>\n      <td>14.127292</td>\n      <td>19.289649</td>\n      <td>91.969033</td>\n      <td>654.889104</td>\n      <td>0.096360</td>\n      <td>0.104341</td>\n      <td>0.088799</td>\n      <td>0.048919</td>\n      <td>0.181162</td>\n      <td>...</td>\n      <td>16.269190</td>\n      <td>25.677223</td>\n      <td>107.261213</td>\n      <td>880.583128</td>\n      <td>0.132369</td>\n      <td>0.254265</td>\n      <td>0.272188</td>\n      <td>0.114606</td>\n      <td>0.290076</td>\n      <td>0.083946</td>\n    </tr>\n    <tr>\n      <th>std</th>\n      <td>1.250206e+08</td>\n      <td>3.524049</td>\n      <td>4.301036</td>\n      <td>24.298981</td>\n      <td>351.914129</td>\n      <td>0.014064</td>\n      <td>0.052813</td>\n      <td>0.079720</td>\n      <td>0.038803</td>\n      <td>0.027414</td>\n      <td>...</td>\n      <td>4.833242</td>\n      <td>6.146258</td>\n      <td>33.602542</td>\n      <td>569.356993</td>\n      <td>0.022832</td>\n      <td>0.157336</td>\n      <td>0.208624</td>\n      <td>0.065732</td>\n      <td>0.061867</td>\n      <td>0.018061</td>\n    </tr>\n    <tr>\n      <th>min</th>\n      <td>8.670000e+03</td>\n      <td>6.981000</td>\n      <td>9.710000</td>\n      <td>43.790000</td>\n      <td>143.500000</td>\n      <td>0.052630</td>\n      <td>0.019380</td>\n      <td>0.000000</td>\n      <td>0.000000</td>\n      <td>0.106000</td>\n      <td>...</td>\n      <td>7.930000</td>\n      <td>12.020000</td>\n      <td>50.410000</td>\n      <td>185.200000</td>\n      <td>0.071170</td>\n      <td>0.027290</td>\n      <td>0.000000</td>\n      <td>0.000000</td>\n      <td>0.156500</td>\n      <td>0.055040</td>\n    </tr>\n    <tr>\n      <th>25%</th>\n      <td>8.692180e+05</td>\n      <td>11.700000</td>\n      <td>16.170000</td>\n      <td>75.170000</td>\n      <td>420.300000</td>\n      <td>0.086370</td>\n      <td>0.064920</td>\n      <td>0.029560</td>\n      <td>0.020310</td>\n      <td>0.161900</td>\n      <td>...</td>\n      <td>13.010000</td>\n      <td>21.080000</td>\n      <td>84.110000</td>\n      <td>515.300000</td>\n      <td>0.116600</td>\n      <td>0.147200</td>\n      <td>0.114500</td>\n      <td>0.064930</td>\n      <td>0.250400</td>\n      <td>0.071460</td>\n    </tr>\n    <tr>\n      <th>50%</th>\n      <td>9.060240e+05</td>\n      <td>13.370000</td>\n      <td>18.840000</td>\n      <td>86.240000</td>\n      <td>551.100000</td>\n      <td>0.095870</td>\n      <td>0.092630</td>\n      <td>0.061540</td>\n      <td>0.033500</td>\n      <td>0.179200</td>\n      <td>...</td>\n      <td>14.970000</td>\n      <td>25.410000</td>\n      <td>97.660000</td>\n      <td>686.500000</td>\n      <td>0.131300</td>\n      <td>0.211900</td>\n      <td>0.226700</td>\n      <td>0.099930</td>\n      <td>0.282200</td>\n      <td>0.080040</td>\n    </tr>\n    <tr>\n      <th>75%</th>\n      <td>8.813129e+06</td>\n      <td>15.780000</td>\n      <td>21.800000</td>\n      <td>104.100000</td>\n      <td>782.700000</td>\n      <td>0.105300</td>\n      <td>0.130400</td>\n      <td>0.130700</td>\n      <td>0.074000</td>\n      <td>0.195700</td>\n      <td>...</td>\n      <td>18.790000</td>\n      <td>29.720000</td>\n      <td>125.400000</td>\n      <td>1084.000000</td>\n      <td>0.146000</td>\n      <td>0.339100</td>\n      <td>0.382900</td>\n      <td>0.161400</td>\n      <td>0.317900</td>\n      <td>0.092080</td>\n    </tr>\n    <tr>\n      <th>max</th>\n      <td>9.113205e+08</td>\n      <td>28.110000</td>\n      <td>39.280000</td>\n      <td>188.500000</td>\n      <td>2501.000000</td>\n      <td>0.163400</td>\n      <td>0.345400</td>\n      <td>0.426800</td>\n      <td>0.201200</td>\n      <td>0.304000</td>\n      <td>...</td>\n      <td>36.040000</td>\n      <td>49.540000</td>\n      <td>251.200000</td>\n      <td>4254.000000</td>\n      <td>0.222600</td>\n      <td>1.058000</td>\n      <td>1.252000</td>\n      <td>0.291000</td>\n      <td>0.663800</td>\n      <td>0.207500</td>\n    </tr>\n  </tbody>\n</table>\n<p>8 rows × 31 columns</p>\n</div>"
          },
          "metadata": {}
        }
      ],
      "execution_count": 5,
      "metadata": {
        "gather": {
          "logged": 1612702208289
        }
      }
    },
    {
      "cell_type": "code",
      "source": [
        "## Create scoring dataset by dropping the result column\n",
        "dataset_score = df.drop('diagnosis', axis=1)\n",
        "dataset_score.head()"
      ],
      "outputs": [
        {
          "output_type": "execute_result",
          "execution_count": 6,
          "data": {
            "text/plain": "         id  radius_mean  texture_mean  perimeter_mean  area_mean  \\\n0    842302        17.99         10.38          122.80     1001.0   \n1    842517        20.57         17.77          132.90     1326.0   \n2  84300903        19.69         21.25          130.00     1203.0   \n3  84348301        11.42         20.38           77.58      386.1   \n4  84358402        20.29         14.34          135.10     1297.0   \n\n   smoothness_mean  compactness_mean  concavity_mean  concave points_mean  \\\n0          0.11840           0.27760          0.3001              0.14710   \n1          0.08474           0.07864          0.0869              0.07017   \n2          0.10960           0.15990          0.1974              0.12790   \n3          0.14250           0.28390          0.2414              0.10520   \n4          0.10030           0.13280          0.1980              0.10430   \n\n   symmetry_mean  ...  radius_worst  texture_worst  perimeter_worst  \\\n0         0.2419  ...         25.38          17.33           184.60   \n1         0.1812  ...         24.99          23.41           158.80   \n2         0.2069  ...         23.57          25.53           152.50   \n3         0.2597  ...         14.91          26.50            98.87   \n4         0.1809  ...         22.54          16.67           152.20   \n\n   area_worst  smoothness_worst  compactness_worst  concavity_worst  \\\n0      2019.0            0.1622             0.6656           0.7119   \n1      1956.0            0.1238             0.1866           0.2416   \n2      1709.0            0.1444             0.4245           0.4504   \n3       567.7            0.2098             0.8663           0.6869   \n4      1575.0            0.1374             0.2050           0.4000   \n\n   concave points_worst  symmetry_worst  fractal_dimension_worst  \n0                0.2654          0.4601                  0.11890  \n1                0.1860          0.2750                  0.08902  \n2                0.2430          0.3613                  0.08758  \n3                0.2575          0.6638                  0.17300  \n4                0.1625          0.2364                  0.07678  \n\n[5 rows x 31 columns]",
            "text/html": "<div>\n<style scoped>\n    .dataframe tbody tr th:only-of-type {\n        vertical-align: middle;\n    }\n\n    .dataframe tbody tr th {\n        vertical-align: top;\n    }\n\n    .dataframe thead th {\n        text-align: right;\n    }\n</style>\n<table border=\"1\" class=\"dataframe\">\n  <thead>\n    <tr style=\"text-align: right;\">\n      <th></th>\n      <th>id</th>\n      <th>radius_mean</th>\n      <th>texture_mean</th>\n      <th>perimeter_mean</th>\n      <th>area_mean</th>\n      <th>smoothness_mean</th>\n      <th>compactness_mean</th>\n      <th>concavity_mean</th>\n      <th>concave points_mean</th>\n      <th>symmetry_mean</th>\n      <th>...</th>\n      <th>radius_worst</th>\n      <th>texture_worst</th>\n      <th>perimeter_worst</th>\n      <th>area_worst</th>\n      <th>smoothness_worst</th>\n      <th>compactness_worst</th>\n      <th>concavity_worst</th>\n      <th>concave points_worst</th>\n      <th>symmetry_worst</th>\n      <th>fractal_dimension_worst</th>\n    </tr>\n  </thead>\n  <tbody>\n    <tr>\n      <th>0</th>\n      <td>842302</td>\n      <td>17.99</td>\n      <td>10.38</td>\n      <td>122.80</td>\n      <td>1001.0</td>\n      <td>0.11840</td>\n      <td>0.27760</td>\n      <td>0.3001</td>\n      <td>0.14710</td>\n      <td>0.2419</td>\n      <td>...</td>\n      <td>25.38</td>\n      <td>17.33</td>\n      <td>184.60</td>\n      <td>2019.0</td>\n      <td>0.1622</td>\n      <td>0.6656</td>\n      <td>0.7119</td>\n      <td>0.2654</td>\n      <td>0.4601</td>\n      <td>0.11890</td>\n    </tr>\n    <tr>\n      <th>1</th>\n      <td>842517</td>\n      <td>20.57</td>\n      <td>17.77</td>\n      <td>132.90</td>\n      <td>1326.0</td>\n      <td>0.08474</td>\n      <td>0.07864</td>\n      <td>0.0869</td>\n      <td>0.07017</td>\n      <td>0.1812</td>\n      <td>...</td>\n      <td>24.99</td>\n      <td>23.41</td>\n      <td>158.80</td>\n      <td>1956.0</td>\n      <td>0.1238</td>\n      <td>0.1866</td>\n      <td>0.2416</td>\n      <td>0.1860</td>\n      <td>0.2750</td>\n      <td>0.08902</td>\n    </tr>\n    <tr>\n      <th>2</th>\n      <td>84300903</td>\n      <td>19.69</td>\n      <td>21.25</td>\n      <td>130.00</td>\n      <td>1203.0</td>\n      <td>0.10960</td>\n      <td>0.15990</td>\n      <td>0.1974</td>\n      <td>0.12790</td>\n      <td>0.2069</td>\n      <td>...</td>\n      <td>23.57</td>\n      <td>25.53</td>\n      <td>152.50</td>\n      <td>1709.0</td>\n      <td>0.1444</td>\n      <td>0.4245</td>\n      <td>0.4504</td>\n      <td>0.2430</td>\n      <td>0.3613</td>\n      <td>0.08758</td>\n    </tr>\n    <tr>\n      <th>3</th>\n      <td>84348301</td>\n      <td>11.42</td>\n      <td>20.38</td>\n      <td>77.58</td>\n      <td>386.1</td>\n      <td>0.14250</td>\n      <td>0.28390</td>\n      <td>0.2414</td>\n      <td>0.10520</td>\n      <td>0.2597</td>\n      <td>...</td>\n      <td>14.91</td>\n      <td>26.50</td>\n      <td>98.87</td>\n      <td>567.7</td>\n      <td>0.2098</td>\n      <td>0.8663</td>\n      <td>0.6869</td>\n      <td>0.2575</td>\n      <td>0.6638</td>\n      <td>0.17300</td>\n    </tr>\n    <tr>\n      <th>4</th>\n      <td>84358402</td>\n      <td>20.29</td>\n      <td>14.34</td>\n      <td>135.10</td>\n      <td>1297.0</td>\n      <td>0.10030</td>\n      <td>0.13280</td>\n      <td>0.1980</td>\n      <td>0.10430</td>\n      <td>0.1809</td>\n      <td>...</td>\n      <td>22.54</td>\n      <td>16.67</td>\n      <td>152.20</td>\n      <td>1575.0</td>\n      <td>0.1374</td>\n      <td>0.2050</td>\n      <td>0.4000</td>\n      <td>0.1625</td>\n      <td>0.2364</td>\n      <td>0.07678</td>\n    </tr>\n  </tbody>\n</table>\n<p>5 rows × 31 columns</p>\n</div>"
          },
          "metadata": {}
        }
      ],
      "execution_count": 6,
      "metadata": {
        "gather": {
          "logged": 1612702217194
        }
      }
    },
    {
      "cell_type": "markdown",
      "source": [
        "## AutoML Configuration\n",
        "\n",
        "TODO: Explain why you chose the automl settings and cofiguration you used below."
      ],
      "metadata": {}
    },
    {
      "cell_type": "code",
      "source": [
        "project_folder = \"./project\"\n",
        "\n",
        "## Setting parameters for AutoMLConfig\n",
        "automl_settings = {\n",
        "    \"experiment_timeout_minutes\": 20,\n",
        "    \"max_concurrent_iterations\": 5,\n",
        "    \"primary_metric\" : 'accuracy'\n",
        "}\n",
        "automl_config = AutoMLConfig(compute_target=compute_target,\n",
        "                             task = \"classification\",\n",
        "                             training_data=dataset,\n",
        "                             label_column_name=\"diagnosis\",   \n",
        "                             path = project_folder,\n",
        "                             enable_early_stopping= True,\n",
        "                             featurization= 'auto',\n",
        "                             debug_log = \"automl_errors.log\",\n",
        "                             **automl_settings\n",
        "                            )\n"
      ],
      "outputs": [],
      "execution_count": 7,
      "metadata": {
        "gather": {
          "logged": 1612702226812
        },
        "jupyter": {
          "outputs_hidden": false,
          "source_hidden": false
        },
        "nteract": {
          "transient": {
            "deleting": false
          }
        }
      }
    },
    {
      "cell_type": "code",
      "source": [
        "## Submitting automl run\n",
        "automl_experiment = Experiment(ws,'automl_test_experiment')\n",
        "automl_run = automl_experiment.submit(config=automl_config,\n",
        "                                     show_output=True)\n",
        "\n",
        "## Use RunDetails widget to show details of the experiment in progress\n",
        "#RunDetails(automl_run).show()"
      ],
      "outputs": [
        {
          "output_type": "stream",
          "name": "stdout",
          "text": [
            "Running on remote.\n",
            "No run_configuration provided, running on my-cluster with default configuration\n",
            "Running on remote compute: my-cluster\n",
            "Parent Run ID: AutoML_12a2f61d-ce1e-4634-88f4-b91f78a3128a\n",
            "\n"
          ]
        }
      ],
      "execution_count": 8,
      "metadata": {
        "gather": {
          "logged": 1598431107951
        },
        "jupyter": {
          "outputs_hidden": false,
          "source_hidden": false
        },
        "nteract": {
          "transient": {
            "deleting": false
          }
        }
      }
    },
    {
      "cell_type": "markdown",
      "source": [
        "## Run Details\n",
        "\n",
        "OPTIONAL: Write about the different models trained and their performance. Why do you think some models did better than others?\n",
        "\n",
        "TODO: In the cell below, use the `RunDetails` widget to show the different experiments."
      ],
      "metadata": {}
    },
    {
      "cell_type": "code",
      "source": [
        "## Use RunDetails widget to show details of the experiment in progress\n",
        "RunDetails(automl_run).show()\n",
        "automl_run.wait_for_completion(show_output=True)\n",
        "assert(automl_run.get_status() == 'Completed')"
      ],
      "outputs": [
        {
          "output_type": "display_data",
          "data": {
            "text/plain": "_AutoMLWidget(widget_settings={'childWidgetDisplay': 'popup', 'send_telemetry': False, 'log_level': 'INFO', 's…",
            "application/vnd.jupyter.widget-view+json": {
              "version_major": 2,
              "version_minor": 0,
              "model_id": "185b4418458f4c3093807e07d48abd47"
            }
          },
          "metadata": {}
        },
        {
          "output_type": "display_data",
          "data": {
            "application/aml.mini.widget.v1": "{\"status\": \"Completed\", \"workbench_run_details_uri\": \"https://ml.azure.com/experiments/automl_test_experiment/runs/AutoML_12a2f61d-ce1e-4634-88f4-b91f78a3128a?wsid=/subscriptions/6b4af8be-9931-443e-90f6-c4c34a1f9737/resourcegroups/aml-quickstarts-137837/workspaces/quick-starts-ws-137837\", \"run_id\": \"AutoML_12a2f61d-ce1e-4634-88f4-b91f78a3128a\", \"run_properties\": {\"run_id\": \"AutoML_12a2f61d-ce1e-4634-88f4-b91f78a3128a\", \"created_utc\": \"2021-02-07T12:50:41.078774Z\", \"properties\": {\"num_iterations\": \"1000\", \"training_type\": \"TrainFull\", \"acquisition_function\": \"EI\", \"primary_metric\": \"accuracy\", \"train_split\": \"0\", \"acquisition_parameter\": \"0\", \"num_cross_validation\": null, \"target\": \"my-cluster\", \"AMLSettingsJsonString\": \"{\\\"path\\\":null,\\\"name\\\":\\\"automl_test_experiment\\\",\\\"subscription_id\\\":\\\"6b4af8be-9931-443e-90f6-c4c34a1f9737\\\",\\\"resource_group\\\":\\\"aml-quickstarts-137837\\\",\\\"workspace_name\\\":\\\"quick-starts-ws-137837\\\",\\\"region\\\":\\\"southcentralus\\\",\\\"compute_target\\\":\\\"my-cluster\\\",\\\"spark_service\\\":null,\\\"azure_service\\\":\\\"remote\\\",\\\"many_models\\\":false,\\\"pipeline_fetch_max_batch_size\\\":1,\\\"iterations\\\":1000,\\\"primary_metric\\\":\\\"accuracy\\\",\\\"task_type\\\":\\\"classification\\\",\\\"data_script\\\":null,\\\"validation_size\\\":0.0,\\\"n_cross_validations\\\":null,\\\"y_min\\\":null,\\\"y_max\\\":null,\\\"num_classes\\\":null,\\\"featurization\\\":\\\"auto\\\",\\\"_ignore_package_version_incompatibilities\\\":false,\\\"is_timeseries\\\":false,\\\"max_cores_per_iteration\\\":1,\\\"max_concurrent_iterations\\\":5,\\\"iteration_timeout_minutes\\\":null,\\\"mem_in_mb\\\":null,\\\"enforce_time_on_windows\\\":false,\\\"experiment_timeout_minutes\\\":20,\\\"experiment_exit_score\\\":null,\\\"whitelist_models\\\":null,\\\"blacklist_algos\\\":[\\\"TensorFlowLinearClassifier\\\",\\\"TensorFlowDNN\\\"],\\\"supported_models\\\":[\\\"RandomForest\\\",\\\"LightGBM\\\",\\\"SVM\\\",\\\"MultinomialNaiveBayes\\\",\\\"GradientBoosting\\\",\\\"KNN\\\",\\\"BernoulliNaiveBayes\\\",\\\"LinearSVM\\\",\\\"XGBoostClassifier\\\",\\\"SGD\\\",\\\"DecisionTree\\\",\\\"AveragedPerceptronClassifier\\\",\\\"ExtremeRandomTrees\\\",\\\"TensorFlowLinearClassifier\\\",\\\"LogisticRegression\\\",\\\"TensorFlowDNN\\\"],\\\"auto_blacklist\\\":true,\\\"blacklist_samples_reached\\\":false,\\\"exclude_nan_labels\\\":true,\\\"verbosity\\\":20,\\\"_debug_log\\\":\\\"azureml_automl.log\\\",\\\"show_warnings\\\":false,\\\"model_explainability\\\":true,\\\"service_url\\\":null,\\\"sdk_url\\\":null,\\\"sdk_packages\\\":null,\\\"enable_onnx_compatible_models\\\":false,\\\"enable_split_onnx_featurizer_estimator_models\\\":false,\\\"vm_type\\\":\\\"STANDARD_D2_V2\\\",\\\"telemetry_verbosity\\\":20,\\\"send_telemetry\\\":true,\\\"enable_dnn\\\":false,\\\"scenario\\\":\\\"SDK-1.13.0\\\",\\\"environment_label\\\":null,\\\"force_text_dnn\\\":false,\\\"enable_feature_sweeping\\\":true,\\\"enable_early_stopping\\\":true,\\\"early_stopping_n_iters\\\":10,\\\"metrics\\\":null,\\\"enable_ensembling\\\":true,\\\"enable_stack_ensembling\\\":true,\\\"ensemble_iterations\\\":15,\\\"enable_tf\\\":false,\\\"enable_subsampling\\\":null,\\\"subsample_seed\\\":null,\\\"enable_nimbusml\\\":false,\\\"enable_streaming\\\":false,\\\"force_streaming\\\":false,\\\"track_child_runs\\\":true,\\\"allowed_private_models\\\":[],\\\"label_column_name\\\":\\\"diagnosis\\\",\\\"weight_column_name\\\":null,\\\"cv_split_column_names\\\":null,\\\"enable_local_managed\\\":false,\\\"_local_managed_run_id\\\":null,\\\"cost_mode\\\":1,\\\"lag_length\\\":0,\\\"metric_operation\\\":\\\"maximize\\\",\\\"preprocess\\\":true}\", \"DataPrepJsonString\": \"{\\\\\\\"training_data\\\\\\\": \\\\\\\"{\\\\\\\\\\\\\\\"blocks\\\\\\\\\\\\\\\": [{\\\\\\\\\\\\\\\"id\\\\\\\\\\\\\\\": \\\\\\\\\\\\\\\"9db0badc-3506-4f03-973e-ced6121c3b02\\\\\\\\\\\\\\\", \\\\\\\\\\\\\\\"type\\\\\\\\\\\\\\\": \\\\\\\\\\\\\\\"Microsoft.DPrep.GetDatastoreFilesBlock\\\\\\\\\\\\\\\", \\\\\\\\\\\\\\\"arguments\\\\\\\\\\\\\\\": {\\\\\\\\\\\\\\\"datastores\\\\\\\\\\\\\\\": [{\\\\\\\\\\\\\\\"datastoreName\\\\\\\\\\\\\\\": \\\\\\\\\\\\\\\"workspaceblobstore\\\\\\\\\\\\\\\", \\\\\\\\\\\\\\\"path\\\\\\\\\\\\\\\": \\\\\\\\\\\\\\\"UI/02-07-2021_123803_UTC/breast_cancer_dataset.csv\\\\\\\\\\\\\\\", \\\\\\\\\\\\\\\"resourceGroup\\\\\\\\\\\\\\\": \\\\\\\\\\\\\\\"aml-quickstarts-137837\\\\\\\\\\\\\\\", \\\\\\\\\\\\\\\"subscription\\\\\\\\\\\\\\\": \\\\\\\\\\\\\\\"6b4af8be-9931-443e-90f6-c4c34a1f9737\\\\\\\\\\\\\\\", \\\\\\\\\\\\\\\"workspaceName\\\\\\\\\\\\\\\": \\\\\\\\\\\\\\\"quick-starts-ws-137837\\\\\\\\\\\\\\\"}]}, \\\\\\\\\\\\\\\"localData\\\\\\\\\\\\\\\": {}, \\\\\\\\\\\\\\\"isEnabled\\\\\\\\\\\\\\\": true, \\\\\\\\\\\\\\\"name\\\\\\\\\\\\\\\": null, \\\\\\\\\\\\\\\"annotation\\\\\\\\\\\\\\\": null}, {\\\\\\\\\\\\\\\"id\\\\\\\\\\\\\\\": \\\\\\\\\\\\\\\"bc2b850e-401c-4223-8ab4-474d13d254a2\\\\\\\\\\\\\\\", \\\\\\\\\\\\\\\"type\\\\\\\\\\\\\\\": \\\\\\\\\\\\\\\"Microsoft.DPrep.ParseDelimitedBlock\\\\\\\\\\\\\\\", \\\\\\\\\\\\\\\"arguments\\\\\\\\\\\\\\\": {\\\\\\\\\\\\\\\"columnHeadersMode\\\\\\\\\\\\\\\": 1, \\\\\\\\\\\\\\\"fileEncoding\\\\\\\\\\\\\\\": 0, \\\\\\\\\\\\\\\"handleQuotedLineBreaks\\\\\\\\\\\\\\\": false, \\\\\\\\\\\\\\\"preview\\\\\\\\\\\\\\\": false, \\\\\\\\\\\\\\\"separator\\\\\\\\\\\\\\\": \\\\\\\\\\\\\\\",\\\\\\\\\\\\\\\", \\\\\\\\\\\\\\\"skipRows\\\\\\\\\\\\\\\": 0, \\\\\\\\\\\\\\\"skipRowsMode\\\\\\\\\\\\\\\": 0}, \\\\\\\\\\\\\\\"localData\\\\\\\\\\\\\\\": {}, \\\\\\\\\\\\\\\"isEnabled\\\\\\\\\\\\\\\": true, \\\\\\\\\\\\\\\"name\\\\\\\\\\\\\\\": null, \\\\\\\\\\\\\\\"annotation\\\\\\\\\\\\\\\": null}, {\\\\\\\\\\\\\\\"id\\\\\\\\\\\\\\\": \\\\\\\\\\\\\\\"8621a157-4165-4d42-966d-a91ab42ee692\\\\\\\\\\\\\\\", \\\\\\\\\\\\\\\"type\\\\\\\\\\\\\\\": \\\\\\\\\\\\\\\"Microsoft.DPrep.DropColumnsBlock\\\\\\\\\\\\\\\", \\\\\\\\\\\\\\\"arguments\\\\\\\\\\\\\\\": {\\\\\\\\\\\\\\\"columns\\\\\\\\\\\\\\\": {\\\\\\\\\\\\\\\"type\\\\\\\\\\\\\\\": 0, \\\\\\\\\\\\\\\"details\\\\\\\\\\\\\\\": {\\\\\\\\\\\\\\\"selectedColumns\\\\\\\\\\\\\\\": [\\\\\\\\\\\\\\\"Path\\\\\\\\\\\\\\\"]}}}, \\\\\\\\\\\\\\\"localData\\\\\\\\\\\\\\\": {}, \\\\\\\\\\\\\\\"isEnabled\\\\\\\\\\\\\\\": true, \\\\\\\\\\\\\\\"name\\\\\\\\\\\\\\\": null, \\\\\\\\\\\\\\\"annotation\\\\\\\\\\\\\\\": null}, {\\\\\\\\\\\\\\\"id\\\\\\\\\\\\\\\": \\\\\\\\\\\\\\\"9b067f28-ddf1-4a27-8443-1fe35099d655\\\\\\\\\\\\\\\", \\\\\\\\\\\\\\\"type\\\\\\\\\\\\\\\": \\\\\\\\\\\\\\\"Microsoft.DPrep.SetColumnTypesBlock\\\\\\\\\\\\\\\", \\\\\\\\\\\\\\\"arguments\\\\\\\\\\\\\\\": {\\\\\\\\\\\\\\\"columnConversion\\\\\\\\\\\\\\\": [{\\\\\\\\\\\\\\\"column\\\\\\\\\\\\\\\": {\\\\\\\\\\\\\\\"type\\\\\\\\\\\\\\\": 2, \\\\\\\\\\\\\\\"details\\\\\\\\\\\\\\\": {\\\\\\\\\\\\\\\"selectedColumn\\\\\\\\\\\\\\\": \\\\\\\\\\\\\\\"Path\\\\\\\\\\\\\\\"}}, \\\\\\\\\\\\\\\"typeProperty\\\\\\\\\\\\\\\": 0}, {\\\\\\\\\\\\\\\"column\\\\\\\\\\\\\\\": {\\\\\\\\\\\\\\\"type\\\\\\\\\\\\\\\": 2, \\\\\\\\\\\\\\\"details\\\\\\\\\\\\\\\": {\\\\\\\\\\\\\\\"selectedColumn\\\\\\\\\\\\\\\": \\\\\\\\\\\\\\\"id\\\\\\\\\\\\\\\"}}, \\\\\\\\\\\\\\\"typeProperty\\\\\\\\\\\\\\\": 2}, {\\\\\\\\\\\\\\\"column\\\\\\\\\\\\\\\": {\\\\\\\\\\\\\\\"type\\\\\\\\\\\\\\\": 2, \\\\\\\\\\\\\\\"details\\\\\\\\\\\\\\\": {\\\\\\\\\\\\\\\"selectedColumn\\\\\\\\\\\\\\\": \\\\\\\\\\\\\\\"diagnosis\\\\\\\\\\\\\\\"}}, \\\\\\\\\\\\\\\"typeProperty\\\\\\\\\\\\\\\": 0}, {\\\\\\\\\\\\\\\"column\\\\\\\\\\\\\\\": {\\\\\\\\\\\\\\\"type\\\\\\\\\\\\\\\": 2, \\\\\\\\\\\\\\\"details\\\\\\\\\\\\\\\": {\\\\\\\\\\\\\\\"selectedColumn\\\\\\\\\\\\\\\": \\\\\\\\\\\\\\\"radius_mean\\\\\\\\\\\\\\\"}}, \\\\\\\\\\\\\\\"typeProperty\\\\\\\\\\\\\\\": 3}, {\\\\\\\\\\\\\\\"column\\\\\\\\\\\\\\\": {\\\\\\\\\\\\\\\"type\\\\\\\\\\\\\\\": 2, \\\\\\\\\\\\\\\"details\\\\\\\\\\\\\\\": {\\\\\\\\\\\\\\\"selectedColumn\\\\\\\\\\\\\\\": \\\\\\\\\\\\\\\"texture_mean\\\\\\\\\\\\\\\"}}, \\\\\\\\\\\\\\\"typeProperty\\\\\\\\\\\\\\\": 3}, {\\\\\\\\\\\\\\\"column\\\\\\\\\\\\\\\": {\\\\\\\\\\\\\\\"type\\\\\\\\\\\\\\\": 2, \\\\\\\\\\\\\\\"details\\\\\\\\\\\\\\\": {\\\\\\\\\\\\\\\"selectedColumn\\\\\\\\\\\\\\\": \\\\\\\\\\\\\\\"perimeter_mean\\\\\\\\\\\\\\\"}}, \\\\\\\\\\\\\\\"typeProperty\\\\\\\\\\\\\\\": 3}, {\\\\\\\\\\\\\\\"column\\\\\\\\\\\\\\\": {\\\\\\\\\\\\\\\"type\\\\\\\\\\\\\\\": 2, \\\\\\\\\\\\\\\"details\\\\\\\\\\\\\\\": {\\\\\\\\\\\\\\\"selectedColumn\\\\\\\\\\\\\\\": \\\\\\\\\\\\\\\"area_mean\\\\\\\\\\\\\\\"}}, \\\\\\\\\\\\\\\"typeProperty\\\\\\\\\\\\\\\": 3}, {\\\\\\\\\\\\\\\"column\\\\\\\\\\\\\\\": {\\\\\\\\\\\\\\\"type\\\\\\\\\\\\\\\": 2, \\\\\\\\\\\\\\\"details\\\\\\\\\\\\\\\": {\\\\\\\\\\\\\\\"selectedColumn\\\\\\\\\\\\\\\": \\\\\\\\\\\\\\\"smoothness_mean\\\\\\\\\\\\\\\"}}, \\\\\\\\\\\\\\\"typeProperty\\\\\\\\\\\\\\\": 3}, {\\\\\\\\\\\\\\\"column\\\\\\\\\\\\\\\": {\\\\\\\\\\\\\\\"type\\\\\\\\\\\\\\\": 2, \\\\\\\\\\\\\\\"details\\\\\\\\\\\\\\\": {\\\\\\\\\\\\\\\"selectedColumn\\\\\\\\\\\\\\\": \\\\\\\\\\\\\\\"compactness_mean\\\\\\\\\\\\\\\"}}, \\\\\\\\\\\\\\\"typeProperty\\\\\\\\\\\\\\\": 3}, {\\\\\\\\\\\\\\\"column\\\\\\\\\\\\\\\": {\\\\\\\\\\\\\\\"type\\\\\\\\\\\\\\\": 2, \\\\\\\\\\\\\\\"details\\\\\\\\\\\\\\\": {\\\\\\\\\\\\\\\"selectedColumn\\\\\\\\\\\\\\\": \\\\\\\\\\\\\\\"concavity_mean\\\\\\\\\\\\\\\"}}, \\\\\\\\\\\\\\\"typeProperty\\\\\\\\\\\\\\\": 3}, {\\\\\\\\\\\\\\\"column\\\\\\\\\\\\\\\": {\\\\\\\\\\\\\\\"type\\\\\\\\\\\\\\\": 2, \\\\\\\\\\\\\\\"details\\\\\\\\\\\\\\\": {\\\\\\\\\\\\\\\"selectedColumn\\\\\\\\\\\\\\\": \\\\\\\\\\\\\\\"concave points_mean\\\\\\\\\\\\\\\"}}, \\\\\\\\\\\\\\\"typeProperty\\\\\\\\\\\\\\\": 3}, {\\\\\\\\\\\\\\\"column\\\\\\\\\\\\\\\": {\\\\\\\\\\\\\\\"type\\\\\\\\\\\\\\\": 2, \\\\\\\\\\\\\\\"details\\\\\\\\\\\\\\\": {\\\\\\\\\\\\\\\"selectedColumn\\\\\\\\\\\\\\\": \\\\\\\\\\\\\\\"symmetry_mean\\\\\\\\\\\\\\\"}}, \\\\\\\\\\\\\\\"typeProperty\\\\\\\\\\\\\\\": 3}, {\\\\\\\\\\\\\\\"column\\\\\\\\\\\\\\\": {\\\\\\\\\\\\\\\"type\\\\\\\\\\\\\\\": 2, \\\\\\\\\\\\\\\"details\\\\\\\\\\\\\\\": {\\\\\\\\\\\\\\\"selectedColumn\\\\\\\\\\\\\\\": \\\\\\\\\\\\\\\"fractal_dimension_mean\\\\\\\\\\\\\\\"}}, \\\\\\\\\\\\\\\"typeProperty\\\\\\\\\\\\\\\": 3}, {\\\\\\\\\\\\\\\"column\\\\\\\\\\\\\\\": {\\\\\\\\\\\\\\\"type\\\\\\\\\\\\\\\": 2, \\\\\\\\\\\\\\\"details\\\\\\\\\\\\\\\": {\\\\\\\\\\\\\\\"selectedColumn\\\\\\\\\\\\\\\": \\\\\\\\\\\\\\\"radius_se\\\\\\\\\\\\\\\"}}, \\\\\\\\\\\\\\\"typeProperty\\\\\\\\\\\\\\\": 3}, {\\\\\\\\\\\\\\\"column\\\\\\\\\\\\\\\": {\\\\\\\\\\\\\\\"type\\\\\\\\\\\\\\\": 2, \\\\\\\\\\\\\\\"details\\\\\\\\\\\\\\\": {\\\\\\\\\\\\\\\"selectedColumn\\\\\\\\\\\\\\\": \\\\\\\\\\\\\\\"texture_se\\\\\\\\\\\\\\\"}}, \\\\\\\\\\\\\\\"typeProperty\\\\\\\\\\\\\\\": 3}, {\\\\\\\\\\\\\\\"column\\\\\\\\\\\\\\\": {\\\\\\\\\\\\\\\"type\\\\\\\\\\\\\\\": 2, \\\\\\\\\\\\\\\"details\\\\\\\\\\\\\\\": {\\\\\\\\\\\\\\\"selectedColumn\\\\\\\\\\\\\\\": \\\\\\\\\\\\\\\"perimeter_se\\\\\\\\\\\\\\\"}}, \\\\\\\\\\\\\\\"typeProperty\\\\\\\\\\\\\\\": 3}, {\\\\\\\\\\\\\\\"column\\\\\\\\\\\\\\\": {\\\\\\\\\\\\\\\"type\\\\\\\\\\\\\\\": 2, \\\\\\\\\\\\\\\"details\\\\\\\\\\\\\\\": {\\\\\\\\\\\\\\\"selectedColumn\\\\\\\\\\\\\\\": \\\\\\\\\\\\\\\"area_se\\\\\\\\\\\\\\\"}}, \\\\\\\\\\\\\\\"typeProperty\\\\\\\\\\\\\\\": 3}, {\\\\\\\\\\\\\\\"column\\\\\\\\\\\\\\\": {\\\\\\\\\\\\\\\"type\\\\\\\\\\\\\\\": 2, \\\\\\\\\\\\\\\"details\\\\\\\\\\\\\\\": {\\\\\\\\\\\\\\\"selectedColumn\\\\\\\\\\\\\\\": \\\\\\\\\\\\\\\"smoothness_se\\\\\\\\\\\\\\\"}}, \\\\\\\\\\\\\\\"typeProperty\\\\\\\\\\\\\\\": 3}, {\\\\\\\\\\\\\\\"column\\\\\\\\\\\\\\\": {\\\\\\\\\\\\\\\"type\\\\\\\\\\\\\\\": 2, \\\\\\\\\\\\\\\"details\\\\\\\\\\\\\\\": {\\\\\\\\\\\\\\\"selectedColumn\\\\\\\\\\\\\\\": \\\\\\\\\\\\\\\"compactness_se\\\\\\\\\\\\\\\"}}, \\\\\\\\\\\\\\\"typeProperty\\\\\\\\\\\\\\\": 3}, {\\\\\\\\\\\\\\\"column\\\\\\\\\\\\\\\": {\\\\\\\\\\\\\\\"type\\\\\\\\\\\\\\\": 2, \\\\\\\\\\\\\\\"details\\\\\\\\\\\\\\\": {\\\\\\\\\\\\\\\"selectedColumn\\\\\\\\\\\\\\\": \\\\\\\\\\\\\\\"concavity_se\\\\\\\\\\\\\\\"}}, \\\\\\\\\\\\\\\"typeProperty\\\\\\\\\\\\\\\": 3}, {\\\\\\\\\\\\\\\"column\\\\\\\\\\\\\\\": {\\\\\\\\\\\\\\\"type\\\\\\\\\\\\\\\": 2, \\\\\\\\\\\\\\\"details\\\\\\\\\\\\\\\": {\\\\\\\\\\\\\\\"selectedColumn\\\\\\\\\\\\\\\": \\\\\\\\\\\\\\\"concave points_se\\\\\\\\\\\\\\\"}}, \\\\\\\\\\\\\\\"typeProperty\\\\\\\\\\\\\\\": 3}, {\\\\\\\\\\\\\\\"column\\\\\\\\\\\\\\\": {\\\\\\\\\\\\\\\"type\\\\\\\\\\\\\\\": 2, \\\\\\\\\\\\\\\"details\\\\\\\\\\\\\\\": {\\\\\\\\\\\\\\\"selectedColumn\\\\\\\\\\\\\\\": \\\\\\\\\\\\\\\"symmetry_se\\\\\\\\\\\\\\\"}}, \\\\\\\\\\\\\\\"typeProperty\\\\\\\\\\\\\\\": 3}, {\\\\\\\\\\\\\\\"column\\\\\\\\\\\\\\\": {\\\\\\\\\\\\\\\"type\\\\\\\\\\\\\\\": 2, \\\\\\\\\\\\\\\"details\\\\\\\\\\\\\\\": {\\\\\\\\\\\\\\\"selectedColumn\\\\\\\\\\\\\\\": \\\\\\\\\\\\\\\"fractal_dimension_se\\\\\\\\\\\\\\\"}}, \\\\\\\\\\\\\\\"typeProperty\\\\\\\\\\\\\\\": 3}, {\\\\\\\\\\\\\\\"column\\\\\\\\\\\\\\\": {\\\\\\\\\\\\\\\"type\\\\\\\\\\\\\\\": 2, \\\\\\\\\\\\\\\"details\\\\\\\\\\\\\\\": {\\\\\\\\\\\\\\\"selectedColumn\\\\\\\\\\\\\\\": \\\\\\\\\\\\\\\"radius_worst\\\\\\\\\\\\\\\"}}, \\\\\\\\\\\\\\\"typeProperty\\\\\\\\\\\\\\\": 3}, {\\\\\\\\\\\\\\\"column\\\\\\\\\\\\\\\": {\\\\\\\\\\\\\\\"type\\\\\\\\\\\\\\\": 2, \\\\\\\\\\\\\\\"details\\\\\\\\\\\\\\\": {\\\\\\\\\\\\\\\"selectedColumn\\\\\\\\\\\\\\\": \\\\\\\\\\\\\\\"texture_worst\\\\\\\\\\\\\\\"}}, \\\\\\\\\\\\\\\"typeProperty\\\\\\\\\\\\\\\": 3}, {\\\\\\\\\\\\\\\"column\\\\\\\\\\\\\\\": {\\\\\\\\\\\\\\\"type\\\\\\\\\\\\\\\": 2, \\\\\\\\\\\\\\\"details\\\\\\\\\\\\\\\": {\\\\\\\\\\\\\\\"selectedColumn\\\\\\\\\\\\\\\": \\\\\\\\\\\\\\\"perimeter_worst\\\\\\\\\\\\\\\"}}, \\\\\\\\\\\\\\\"typeProperty\\\\\\\\\\\\\\\": 3}, {\\\\\\\\\\\\\\\"column\\\\\\\\\\\\\\\": {\\\\\\\\\\\\\\\"type\\\\\\\\\\\\\\\": 2, \\\\\\\\\\\\\\\"details\\\\\\\\\\\\\\\": {\\\\\\\\\\\\\\\"selectedColumn\\\\\\\\\\\\\\\": \\\\\\\\\\\\\\\"area_worst\\\\\\\\\\\\\\\"}}, \\\\\\\\\\\\\\\"typeProperty\\\\\\\\\\\\\\\": 3}, {\\\\\\\\\\\\\\\"column\\\\\\\\\\\\\\\": {\\\\\\\\\\\\\\\"type\\\\\\\\\\\\\\\": 2, \\\\\\\\\\\\\\\"details\\\\\\\\\\\\\\\": {\\\\\\\\\\\\\\\"selectedColumn\\\\\\\\\\\\\\\": \\\\\\\\\\\\\\\"smoothness_worst\\\\\\\\\\\\\\\"}}, \\\\\\\\\\\\\\\"typeProperty\\\\\\\\\\\\\\\": 3}, {\\\\\\\\\\\\\\\"column\\\\\\\\\\\\\\\": {\\\\\\\\\\\\\\\"type\\\\\\\\\\\\\\\": 2, \\\\\\\\\\\\\\\"details\\\\\\\\\\\\\\\": {\\\\\\\\\\\\\\\"selectedColumn\\\\\\\\\\\\\\\": \\\\\\\\\\\\\\\"compactness_worst\\\\\\\\\\\\\\\"}}, \\\\\\\\\\\\\\\"typeProperty\\\\\\\\\\\\\\\": 3}, {\\\\\\\\\\\\\\\"column\\\\\\\\\\\\\\\": {\\\\\\\\\\\\\\\"type\\\\\\\\\\\\\\\": 2, \\\\\\\\\\\\\\\"details\\\\\\\\\\\\\\\": {\\\\\\\\\\\\\\\"selectedColumn\\\\\\\\\\\\\\\": \\\\\\\\\\\\\\\"concavity_worst\\\\\\\\\\\\\\\"}}, \\\\\\\\\\\\\\\"typeProperty\\\\\\\\\\\\\\\": 3}, {\\\\\\\\\\\\\\\"column\\\\\\\\\\\\\\\": {\\\\\\\\\\\\\\\"type\\\\\\\\\\\\\\\": 2, \\\\\\\\\\\\\\\"details\\\\\\\\\\\\\\\": {\\\\\\\\\\\\\\\"selectedColumn\\\\\\\\\\\\\\\": \\\\\\\\\\\\\\\"concave points_worst\\\\\\\\\\\\\\\"}}, \\\\\\\\\\\\\\\"typeProperty\\\\\\\\\\\\\\\": 3}, {\\\\\\\\\\\\\\\"column\\\\\\\\\\\\\\\": {\\\\\\\\\\\\\\\"type\\\\\\\\\\\\\\\": 2, \\\\\\\\\\\\\\\"details\\\\\\\\\\\\\\\": {\\\\\\\\\\\\\\\"selectedColumn\\\\\\\\\\\\\\\": \\\\\\\\\\\\\\\"symmetry_worst\\\\\\\\\\\\\\\"}}, \\\\\\\\\\\\\\\"typeProperty\\\\\\\\\\\\\\\": 3}, {\\\\\\\\\\\\\\\"column\\\\\\\\\\\\\\\": {\\\\\\\\\\\\\\\"type\\\\\\\\\\\\\\\": 2, \\\\\\\\\\\\\\\"details\\\\\\\\\\\\\\\": {\\\\\\\\\\\\\\\"selectedColumn\\\\\\\\\\\\\\\": \\\\\\\\\\\\\\\"fractal_dimension_worst\\\\\\\\\\\\\\\"}}, \\\\\\\\\\\\\\\"typeProperty\\\\\\\\\\\\\\\": 3}]}, \\\\\\\\\\\\\\\"localData\\\\\\\\\\\\\\\": {}, \\\\\\\\\\\\\\\"isEnabled\\\\\\\\\\\\\\\": true, \\\\\\\\\\\\\\\"name\\\\\\\\\\\\\\\": null, \\\\\\\\\\\\\\\"annotation\\\\\\\\\\\\\\\": null}], \\\\\\\\\\\\\\\"inspectors\\\\\\\\\\\\\\\": [], \\\\\\\\\\\\\\\"meta\\\\\\\\\\\\\\\": {\\\\\\\\\\\\\\\"savedDatasetId\\\\\\\\\\\\\\\": \\\\\\\\\\\\\\\"be99e646-746b-4603-bfd7-3f6f0de113d0\\\\\\\\\\\\\\\", \\\\\\\\\\\\\\\"datasetType\\\\\\\\\\\\\\\": \\\\\\\\\\\\\\\"tabular\\\\\\\\\\\\\\\", \\\\\\\\\\\\\\\"subscriptionId\\\\\\\\\\\\\\\": \\\\\\\\\\\\\\\"6b4af8be-9931-443e-90f6-c4c34a1f9737\\\\\\\\\\\\\\\", \\\\\\\\\\\\\\\"workspaceId\\\\\\\\\\\\\\\": \\\\\\\\\\\\\\\"5b66fdf5-9951-457d-80b6-0be99707e086\\\\\\\\\\\\\\\", \\\\\\\\\\\\\\\"workspaceLocation\\\\\\\\\\\\\\\": \\\\\\\\\\\\\\\"southcentralus\\\\\\\\\\\\\\\"}}\\\\\\\", \\\\\\\"activities\\\\\\\": 0}\", \"EnableSubsampling\": null, \"runTemplate\": \"AutoML\", \"azureml.runsource\": \"automl\", \"display_task_type\": \"classification\", \"dependencies_versions\": \"{\\\"azureml-widgets\\\": \\\"1.20.0\\\", \\\"azureml-train\\\": \\\"1.20.0\\\", \\\"azureml-train-restclients-hyperdrive\\\": \\\"1.20.0\\\", \\\"azureml-train-core\\\": \\\"1.20.0\\\", \\\"azureml-train-automl\\\": \\\"1.20.0\\\", \\\"azureml-train-automl-runtime\\\": \\\"1.20.0\\\", \\\"azureml-train-automl-client\\\": \\\"1.20.0\\\", \\\"azureml-tensorboard\\\": \\\"1.20.0\\\", \\\"azureml-telemetry\\\": \\\"1.20.0\\\", \\\"azureml-sdk\\\": \\\"1.20.0\\\", \\\"azureml-samples\\\": \\\"0+unknown\\\", \\\"azureml-pipeline\\\": \\\"1.20.0\\\", \\\"azureml-pipeline-steps\\\": \\\"1.20.0\\\", \\\"azureml-pipeline-core\\\": \\\"1.20.0\\\", \\\"azureml-opendatasets\\\": \\\"1.20.0\\\", \\\"azureml-model-management-sdk\\\": \\\"1.0.1b6.post1\\\", \\\"azureml-mlflow\\\": \\\"1.20.0.post1\\\", \\\"azureml-interpret\\\": \\\"1.20.0\\\", \\\"azureml-explain-model\\\": \\\"1.20.0\\\", \\\"azureml-defaults\\\": \\\"1.20.0\\\", \\\"azureml-dataset-runtime\\\": \\\"1.20.0\\\", \\\"azureml-dataprep\\\": \\\"2.7.3\\\", \\\"azureml-dataprep-rslex\\\": \\\"1.5.0\\\", \\\"azureml-dataprep-native\\\": \\\"27.0.0\\\", \\\"azureml-datadrift\\\": \\\"1.20.0\\\", \\\"azureml-core\\\": \\\"1.20.0\\\", \\\"azureml-contrib-services\\\": \\\"1.20.0\\\", \\\"azureml-contrib-server\\\": \\\"1.20.0\\\", \\\"azureml-contrib-reinforcementlearning\\\": \\\"1.20.0\\\", \\\"azureml-contrib-pipeline-steps\\\": \\\"1.20.0\\\", \\\"azureml-contrib-notebook\\\": \\\"1.20.0\\\", \\\"azureml-contrib-interpret\\\": \\\"1.20.0\\\", \\\"azureml-contrib-gbdt\\\": \\\"1.20.0\\\", \\\"azureml-contrib-fairness\\\": \\\"1.20.0\\\", \\\"azureml-contrib-dataset\\\": \\\"1.20.0\\\", \\\"azureml-cli-common\\\": \\\"1.20.0\\\", \\\"azureml-automl-runtime\\\": \\\"1.20.0\\\", \\\"azureml-automl-core\\\": \\\"1.20.0\\\", \\\"azureml-accel-models\\\": \\\"1.20.0\\\"}\", \"_aml_system_scenario_identification\": \"Remote.Parent\", \"ClientType\": \"SDK\", \"environment_cpu_name\": \"AzureML-AutoML\", \"environment_cpu_label\": \"prod\", \"environment_gpu_name\": \"AzureML-AutoML-GPU\", \"environment_gpu_label\": \"prod\", \"root_attribution\": \"automl\", \"attribution\": \"AutoML\", \"Orchestrator\": \"AutoML\", \"CancelUri\": \"https://southcentralus.experiments.azureml.net/jasmine/v1.0/subscriptions/6b4af8be-9931-443e-90f6-c4c34a1f9737/resourceGroups/aml-quickstarts-137837/providers/Microsoft.MachineLearningServices/workspaces/quick-starts-ws-137837/experimentids/3fac8b8d-d8ba-410a-8b76-71e5be43cfee/cancel/AutoML_12a2f61d-ce1e-4634-88f4-b91f78a3128a\", \"ClientSdkVersion\": \"1.21.0\", \"snapshotId\": \"00000000-0000-0000-0000-000000000000\", \"SetupRunId\": \"AutoML_12a2f61d-ce1e-4634-88f4-b91f78a3128a_setup\", \"SetupRunContainerId\": \"dcid.AutoML_12a2f61d-ce1e-4634-88f4-b91f78a3128a_setup\", \"FeaturizationRunJsonPath\": \"featurizer_container.json\", \"FeaturizationRunId\": \"AutoML_12a2f61d-ce1e-4634-88f4-b91f78a3128a_featurize\", \"ProblemInfoJsonString\": \"{\\\"dataset_num_categorical\\\": 0, \\\"is_sparse\\\": false, \\\"subsampling\\\": false, \\\"dataset_classes\\\": 2, \\\"dataset_features\\\": 31, \\\"dataset_samples\\\": 569, \\\"single_frequency_class_detected\\\": false}\", \"ModelExplainRunId\": \"AutoML_12a2f61d-ce1e-4634-88f4-b91f78a3128a_ModelExplain\"}, \"tags\": {\"model_explain_run\": \"best_run\", \"_aml_system_azureml.automlComponent\": \"AutoML\", \"pipeline_id\": \"\", \"score\": \"\", \"predicted_cost\": \"\", \"fit_time\": \"\", \"training_percent\": \"\", \"iteration\": \"\", \"run_preprocessor\": \"\", \"run_algorithm\": \"\", \"dynamic_whitelisting_iterations\": \"<25>;<30>;<35>;\", \"automl_best_child_run_id\": \"AutoML_12a2f61d-ce1e-4634-88f4-b91f78a3128a_38\", \"model_explain_best_run_child_id\": \"AutoML_12a2f61d-ce1e-4634-88f4-b91f78a3128a_38\"}, \"end_time_utc\": \"2021-02-07T13:12:28.553874Z\", \"status\": \"Completed\", \"log_files\": {}, \"log_groups\": [], \"run_duration\": \"0:21:47\"}, \"child_runs\": [{\"run_id\": \"AutoML_12a2f61d-ce1e-4634-88f4-b91f78a3128a_4\", \"run_number\": 18, \"metric\": null, \"status\": \"Completed\", \"run_type\": \"azureml.scriptrun\", \"training_percent\": \"100\", \"start_time\": \"2021-02-07T12:59:25.59096Z\", \"end_time\": \"2021-02-07T13:00:24.157685Z\", \"created_time\": \"2021-02-07T12:59:15.153587Z\", \"created_time_dt\": \"2021-02-07T12:59:15.153587Z\", \"duration\": \"0:01:09\", \"iteration\": \"4\", \"goal\": \"accuracy_max\", \"run_name\": \"MinMaxScaler, RandomForest\", \"run_properties\": \"copy=True, feature_range=(0, 1\", \"primary_metric\": 0.95247494, \"best_metric\": 0.97008145}, {\"run_id\": \"AutoML_12a2f61d-ce1e-4634-88f4-b91f78a3128a_1\", \"run_number\": 19, \"metric\": null, \"status\": \"Completed\", \"run_type\": \"azureml.scriptrun\", \"training_percent\": \"100\", \"start_time\": \"2021-02-07T12:59:25.654274Z\", \"end_time\": \"2021-02-07T13:00:24.083449Z\", \"created_time\": \"2021-02-07T12:59:15.16034Z\", \"created_time_dt\": \"2021-02-07T12:59:15.16034Z\", \"duration\": \"0:01:08\", \"iteration\": \"1\", \"goal\": \"accuracy_max\", \"run_name\": \"MaxAbsScaler, XGBoostClassifier\", \"run_properties\": \"copy=True\", \"primary_metric\": 0.96829574, \"best_metric\": 0.97008145}, {\"run_id\": \"AutoML_12a2f61d-ce1e-4634-88f4-b91f78a3128a_3\", \"run_number\": 20, \"metric\": null, \"status\": \"Completed\", \"run_type\": \"azureml.scriptrun\", \"training_percent\": \"100\", \"start_time\": \"2021-02-07T12:59:26.854099Z\", \"end_time\": \"2021-02-07T13:02:56.079371Z\", \"created_time\": \"2021-02-07T12:59:15.201697Z\", \"created_time_dt\": \"2021-02-07T12:59:15.201697Z\", \"duration\": \"0:03:40\", \"iteration\": \"3\", \"goal\": \"accuracy_max\", \"run_name\": \"MinMaxScaler, RandomForest\", \"run_properties\": \"copy=True, feature_range=(0, 1\", \"primary_metric\": 0.93843985, \"best_metric\": 0.97008145}, {\"run_id\": \"AutoML_12a2f61d-ce1e-4634-88f4-b91f78a3128a_0\", \"run_number\": 21, \"metric\": null, \"status\": \"Completed\", \"run_type\": \"azureml.scriptrun\", \"training_percent\": \"100\", \"start_time\": \"2021-02-07T13:00:24.69297Z\", \"end_time\": \"2021-02-07T13:01:24.907689Z\", \"created_time\": \"2021-02-07T12:59:15.280557Z\", \"created_time_dt\": \"2021-02-07T12:59:15.280557Z\", \"duration\": \"0:02:09\", \"iteration\": \"0\", \"goal\": \"accuracy_max\", \"run_name\": \"MaxAbsScaler, LightGBM\", \"run_properties\": \"copy=True\", \"primary_metric\": 0.97008145, \"best_metric\": 0.97008145}, {\"run_id\": \"AutoML_12a2f61d-ce1e-4634-88f4-b91f78a3128a_2\", \"run_number\": 22, \"metric\": null, \"status\": \"Completed\", \"run_type\": \"azureml.scriptrun\", \"training_percent\": \"100\", \"start_time\": \"2021-02-07T12:59:28.888668Z\", \"end_time\": \"2021-02-07T13:03:00.013957Z\", \"created_time\": \"2021-02-07T12:59:15.31282Z\", \"created_time_dt\": \"2021-02-07T12:59:15.31282Z\", \"duration\": \"0:03:44\", \"iteration\": \"2\", \"goal\": \"accuracy_max\", \"run_name\": \"MinMaxScaler, RandomForest\", \"run_properties\": \"copy=True, feature_range=(0, 1\", \"primary_metric\": 0.94899749, \"best_metric\": 0.97008145}, {\"run_id\": \"AutoML_12a2f61d-ce1e-4634-88f4-b91f78a3128a_5\", \"run_number\": 23, \"metric\": null, \"status\": \"Completed\", \"run_type\": \"azureml.scriptrun\", \"training_percent\": \"100\", \"start_time\": \"2021-02-07T13:01:28.53685Z\", \"end_time\": \"2021-02-07T13:02:26.582709Z\", \"created_time\": \"2021-02-07T13:00:27.508624Z\", \"created_time_dt\": \"2021-02-07T13:00:27.508624Z\", \"duration\": \"0:01:59\", \"iteration\": \"5\", \"goal\": \"accuracy_max\", \"run_name\": \"SparseNormalizer, XGBoostClassifier\", \"run_properties\": \"<azureml.automl.runtime.shared.model_wrappers.SparseNormalizer object at 0x7f1c694655f8\", \"primary_metric\": 0.93139098, \"best_metric\": 0.97008145}, {\"run_id\": \"AutoML_12a2f61d-ce1e-4634-88f4-b91f78a3128a_6\", \"run_number\": 24, \"metric\": null, \"status\": \"Completed\", \"run_type\": \"azureml.scriptrun\", \"training_percent\": \"100\", \"start_time\": \"2021-02-07T13:00:40.066598Z\", \"end_time\": \"2021-02-07T13:01:34.046631Z\", \"created_time\": \"2021-02-07T13:00:27.579807Z\", \"created_time_dt\": \"2021-02-07T13:00:27.579807Z\", \"duration\": \"0:01:06\", \"iteration\": \"6\", \"goal\": \"accuracy_max\", \"run_name\": \"StandardScalerWrapper, LogisticRegression\", \"run_properties\": \"<azureml.automl.runtime.shared.model_wrappers.StandardScalerWrapper object at 0x7effd231dfd0\", \"primary_metric\": 0.97534461, \"best_metric\": 0.97534461}, {\"run_id\": \"AutoML_12a2f61d-ce1e-4634-88f4-b91f78a3128a_7\", \"run_number\": 25, \"metric\": null, \"status\": \"Completed\", \"run_type\": \"azureml.scriptrun\", \"training_percent\": \"100\", \"start_time\": \"2021-02-07T13:01:41.324765Z\", \"end_time\": \"2021-02-07T13:02:32.588604Z\", \"created_time\": \"2021-02-07T13:01:28.002516Z\", \"created_time_dt\": \"2021-02-07T13:01:28.002516Z\", \"duration\": \"0:01:04\", \"iteration\": \"7\", \"goal\": \"accuracy_max\", \"run_name\": \"MaxAbsScaler, LightGBM\", \"run_properties\": \"copy=True\", \"primary_metric\": 0.97177318, \"best_metric\": 0.97534461}, {\"run_id\": \"AutoML_12a2f61d-ce1e-4634-88f4-b91f78a3128a_8\", \"run_number\": 26, \"metric\": null, \"status\": \"Completed\", \"run_type\": \"azureml.scriptrun\", \"training_percent\": \"100\", \"start_time\": \"2021-02-07T13:02:27.369741Z\", \"end_time\": \"2021-02-07T13:03:21.455513Z\", \"created_time\": \"2021-02-07T13:01:37.800601Z\", \"created_time_dt\": \"2021-02-07T13:01:37.800601Z\", \"duration\": \"0:01:43\", \"iteration\": \"8\", \"goal\": \"accuracy_max\", \"run_name\": \"SparseNormalizer, XGBoostClassifier\", \"run_properties\": \"<azureml.automl.runtime.shared.model_wrappers.SparseNormalizer object at 0x7f0a7c7b3e48\", \"primary_metric\": 0.94373434, \"best_metric\": 0.97534461}, {\"run_id\": \"AutoML_12a2f61d-ce1e-4634-88f4-b91f78a3128a_9\", \"run_number\": 27, \"metric\": null, \"status\": \"Completed\", \"run_type\": \"azureml.scriptrun\", \"training_percent\": \"100\", \"start_time\": \"2021-02-07T13:02:42.315929Z\", \"end_time\": \"2021-02-07T13:03:28.230671Z\", \"created_time\": \"2021-02-07T13:02:28.634727Z\", \"created_time_dt\": \"2021-02-07T13:02:28.634727Z\", \"duration\": \"0:00:59\", \"iteration\": \"9\", \"goal\": \"accuracy_max\", \"run_name\": \"MaxAbsScaler, LightGBM\", \"run_properties\": \"copy=True\", \"primary_metric\": 0.95426065, \"best_metric\": 0.97534461}, {\"run_id\": \"AutoML_12a2f61d-ce1e-4634-88f4-b91f78a3128a_10\", \"run_number\": 28, \"metric\": null, \"status\": \"Completed\", \"run_type\": \"azureml.scriptrun\", \"training_percent\": \"100\", \"start_time\": \"2021-02-07T13:02:58.60558Z\", \"end_time\": \"2021-02-07T13:03:47.934701Z\", \"created_time\": \"2021-02-07T13:02:34.87733Z\", \"created_time_dt\": \"2021-02-07T13:02:34.87733Z\", \"duration\": \"0:01:13\", \"iteration\": \"10\", \"goal\": \"accuracy_max\", \"run_name\": \"SparseNormalizer, LightGBM\", \"run_properties\": \"<azureml.automl.runtime.shared.model_wrappers.SparseNormalizer object at 0x7f1e29b37780\", \"primary_metric\": 0.88737469, \"best_metric\": 0.97534461}, {\"run_id\": \"AutoML_12a2f61d-ce1e-4634-88f4-b91f78a3128a_11\", \"run_number\": 29, \"metric\": null, \"status\": \"Completed\", \"run_type\": \"azureml.scriptrun\", \"training_percent\": \"100\", \"start_time\": \"2021-02-07T13:03:11.280395Z\", \"end_time\": \"2021-02-07T13:04:12.740634Z\", \"created_time\": \"2021-02-07T13:02:58.515913Z\", \"created_time_dt\": \"2021-02-07T13:02:58.515913Z\", \"duration\": \"0:01:14\", \"iteration\": \"11\", \"goal\": \"accuracy_max\", \"run_name\": \"RobustScaler, GradientBoosting\", \"run_properties\": \"copy=True, quantile_range=[10, 90], with_centering=False,\\n             with_scaling=True\", \"primary_metric\": 0.96832707, \"best_metric\": 0.97534461}, {\"run_id\": \"AutoML_12a2f61d-ce1e-4634-88f4-b91f78a3128a_12\", \"run_number\": 30, \"metric\": null, \"status\": \"Completed\", \"run_type\": \"azureml.scriptrun\", \"training_percent\": \"100\", \"start_time\": \"2021-02-07T13:03:23.369262Z\", \"end_time\": \"2021-02-07T13:04:23.08393Z\", \"created_time\": \"2021-02-07T13:03:04.508665Z\", \"created_time_dt\": \"2021-02-07T13:03:04.508665Z\", \"duration\": \"0:01:18\", \"iteration\": \"12\", \"goal\": \"accuracy_max\", \"run_name\": \"SparseNormalizer, XGBoostClassifier\", \"run_properties\": \"<azureml.automl.runtime.shared.model_wrappers.SparseNormalizer object at 0x7ff590a84080\", \"primary_metric\": 0.91738722, \"best_metric\": 0.97534461}, {\"run_id\": \"AutoML_12a2f61d-ce1e-4634-88f4-b91f78a3128a_13\", \"run_number\": 31, \"metric\": null, \"status\": \"Completed\", \"run_type\": \"azureml.scriptrun\", \"training_percent\": \"100\", \"start_time\": \"2021-02-07T13:03:40.946784Z\", \"end_time\": \"2021-02-07T13:04:34.725253Z\", \"created_time\": \"2021-02-07T13:03:24.778697Z\", \"created_time_dt\": \"2021-02-07T13:03:24.778697Z\", \"duration\": \"0:01:09\", \"iteration\": \"13\", \"goal\": \"accuracy_max\", \"run_name\": \"MinMaxScaler, LightGBM\", \"run_properties\": \"copy=True, feature_range=(0, 1\", \"primary_metric\": 0.95072055, \"best_metric\": 0.97534461}, {\"run_id\": \"AutoML_12a2f61d-ce1e-4634-88f4-b91f78a3128a_14\", \"run_number\": 32, \"metric\": null, \"status\": \"Completed\", \"run_type\": \"azureml.scriptrun\", \"training_percent\": \"100\", \"start_time\": \"2021-02-07T13:03:50.819894Z\", \"end_time\": \"2021-02-07T13:04:51.346303Z\", \"created_time\": \"2021-02-07T13:03:30.403163Z\", \"created_time_dt\": \"2021-02-07T13:03:30.403163Z\", \"duration\": \"0:01:20\", \"iteration\": \"14\", \"goal\": \"accuracy_max\", \"run_name\": \"RobustScaler, KNN\", \"run_properties\": \"copy=True, quantile_range=[25, 75], with_centering=True,\\n             with_scaling=False\", \"primary_metric\": 0.82944862, \"best_metric\": 0.97534461}, {\"run_id\": \"AutoML_12a2f61d-ce1e-4634-88f4-b91f78a3128a_15\", \"run_number\": 33, \"metric\": null, \"status\": \"Completed\", \"run_type\": \"azureml.scriptrun\", \"training_percent\": \"100\", \"start_time\": \"2021-02-07T13:04:17.441078Z\", \"end_time\": \"2021-02-07T13:05:15.124446Z\", \"created_time\": \"2021-02-07T13:03:49.868832Z\", \"created_time_dt\": \"2021-02-07T13:03:49.868832Z\", \"duration\": \"0:01:25\", \"iteration\": \"15\", \"goal\": \"accuracy_max\", \"run_name\": \"MinMaxScaler, LightGBM\", \"run_properties\": \"copy=True, feature_range=(0, 1\", \"primary_metric\": 0.96829574, \"best_metric\": 0.97534461}, {\"run_id\": \"AutoML_12a2f61d-ce1e-4634-88f4-b91f78a3128a_16\", \"run_number\": 34, \"metric\": null, \"status\": \"Completed\", \"run_type\": \"azureml.scriptrun\", \"training_percent\": \"100\", \"start_time\": \"2021-02-07T13:04:27.843539Z\", \"end_time\": \"2021-02-07T13:05:13.806895Z\", \"created_time\": \"2021-02-07T13:04:14.83046Z\", \"created_time_dt\": \"2021-02-07T13:04:14.83046Z\", \"duration\": \"0:00:58\", \"iteration\": \"16\", \"goal\": \"accuracy_max\", \"run_name\": \"RobustScaler, LightGBM\", \"run_properties\": \"copy=True, quantile_range=[10, 90], with_centering=False,\\n             with_scaling=False\", \"primary_metric\": 0.94727444, \"best_metric\": 0.97534461}, {\"run_id\": \"AutoML_12a2f61d-ce1e-4634-88f4-b91f78a3128a_17\", \"run_number\": 35, \"metric\": null, \"status\": \"Completed\", \"run_type\": \"azureml.scriptrun\", \"training_percent\": \"100\", \"start_time\": \"2021-02-07T13:04:37.741396Z\", \"end_time\": \"2021-02-07T13:05:29.130006Z\", \"created_time\": \"2021-02-07T13:04:25.075838Z\", \"created_time_dt\": \"2021-02-07T13:04:25.075838Z\", \"duration\": \"0:01:04\", \"iteration\": \"17\", \"goal\": \"accuracy_max\", \"run_name\": \"SparseNormalizer, XGBoostClassifier\", \"run_properties\": \"<azureml.automl.runtime.shared.model_wrappers.SparseNormalizer object at 0x7f0617841550\", \"primary_metric\": 0.92788221, \"best_metric\": 0.97534461}, {\"run_id\": \"AutoML_12a2f61d-ce1e-4634-88f4-b91f78a3128a_18\", \"run_number\": 36, \"metric\": null, \"status\": \"Completed\", \"run_type\": \"azureml.scriptrun\", \"training_percent\": \"100\", \"start_time\": \"2021-02-07T13:04:52.22651Z\", \"end_time\": \"2021-02-07T13:05:45.040254Z\", \"created_time\": \"2021-02-07T13:04:36.659882Z\", \"created_time_dt\": \"2021-02-07T13:04:36.659882Z\", \"duration\": \"0:01:08\", \"iteration\": \"18\", \"goal\": \"accuracy_max\", \"run_name\": \"SparseNormalizer, XGBoostClassifier\", \"run_properties\": \"<azureml.automl.runtime.shared.model_wrappers.SparseNormalizer object at 0x7f2c1ad036d8\", \"primary_metric\": 0.92791353, \"best_metric\": 0.97534461}, {\"run_id\": \"AutoML_12a2f61d-ce1e-4634-88f4-b91f78a3128a_19\", \"run_number\": 37, \"metric\": null, \"status\": \"Completed\", \"run_type\": \"azureml.scriptrun\", \"training_percent\": \"100\", \"start_time\": \"2021-02-07T13:05:18.270501Z\", \"end_time\": \"2021-02-07T13:06:11.063034Z\", \"created_time\": \"2021-02-07T13:04:53.463049Z\", \"created_time_dt\": \"2021-02-07T13:04:53.463049Z\", \"duration\": \"0:01:17\", \"iteration\": \"19\", \"goal\": \"accuracy_max\", \"run_name\": \"StandardScalerWrapper, LightGBM\", \"run_properties\": \"<azureml.automl.runtime.shared.model_wrappers.StandardScalerWrapper object at 0x7f1045537fd0\", \"primary_metric\": 0.94896617, \"best_metric\": 0.97534461}, {\"run_id\": \"AutoML_12a2f61d-ce1e-4634-88f4-b91f78a3128a_20\", \"run_number\": 38, \"metric\": null, \"status\": \"Completed\", \"run_type\": \"azureml.scriptrun\", \"training_percent\": \"100\", \"start_time\": \"2021-02-07T13:05:28.917647Z\", \"end_time\": \"2021-02-07T13:06:20.069392Z\", \"created_time\": \"2021-02-07T13:05:15.614168Z\", \"created_time_dt\": \"2021-02-07T13:05:15.614168Z\", \"duration\": \"0:01:04\", \"iteration\": \"20\", \"goal\": \"accuracy_max\", \"run_name\": \"SparseNormalizer, XGBoostClassifier\", \"run_properties\": \"<azureml.automl.runtime.shared.model_wrappers.SparseNormalizer object at 0x7f409d809c18\", \"primary_metric\": 0.92788221, \"best_metric\": 0.97534461}, {\"run_id\": \"AutoML_12a2f61d-ce1e-4634-88f4-b91f78a3128a_21\", \"run_number\": 39, \"metric\": null, \"status\": \"Completed\", \"run_type\": \"azureml.scriptrun\", \"training_percent\": \"100\", \"start_time\": \"2021-02-07T13:05:32.427918Z\", \"end_time\": \"2021-02-07T13:06:30.173658Z\", \"created_time\": \"2021-02-07T13:05:20.523081Z\", \"created_time_dt\": \"2021-02-07T13:05:20.523081Z\", \"duration\": \"0:01:09\", \"iteration\": \"21\", \"goal\": \"accuracy_max\", \"run_name\": \"SparseNormalizer, XGBoostClassifier\", \"run_properties\": \"<azureml.automl.runtime.shared.model_wrappers.SparseNormalizer object at 0x7f68bd872400\", \"primary_metric\": 0.90159774, \"best_metric\": 0.97534461}, {\"run_id\": \"AutoML_12a2f61d-ce1e-4634-88f4-b91f78a3128a_22\", \"run_number\": 40, \"metric\": null, \"status\": \"Completed\", \"run_type\": \"azureml.scriptrun\", \"training_percent\": \"100\", \"start_time\": \"2021-02-07T13:05:50.31761Z\", \"end_time\": \"2021-02-07T13:06:41.716537Z\", \"created_time\": \"2021-02-07T13:05:30.905569Z\", \"created_time_dt\": \"2021-02-07T13:05:30.905569Z\", \"duration\": \"0:01:10\", \"iteration\": \"22\", \"goal\": \"accuracy_max\", \"run_name\": \"SparseNormalizer, XGBoostClassifier\", \"run_properties\": \"<azureml.automl.runtime.shared.model_wrappers.SparseNormalizer object at 0x7f2f27165710\", \"primary_metric\": 0.90507519, \"best_metric\": 0.97534461}, {\"run_id\": \"AutoML_12a2f61d-ce1e-4634-88f4-b91f78a3128a_23\", \"run_number\": 41, \"metric\": null, \"status\": \"Completed\", \"run_type\": \"azureml.scriptrun\", \"training_percent\": \"100\", \"start_time\": \"2021-02-07T13:06:17.675629Z\", \"end_time\": \"2021-02-07T13:07:11.684955Z\", \"created_time\": \"2021-02-07T13:05:47.13531Z\", \"created_time_dt\": \"2021-02-07T13:05:47.13531Z\", \"duration\": \"0:01:24\", \"iteration\": \"23\", \"goal\": \"accuracy_max\", \"run_name\": \"MaxAbsScaler, LightGBM\", \"run_properties\": \"copy=True\", \"primary_metric\": 0.96478697, \"best_metric\": 0.97534461}, {\"run_id\": \"AutoML_12a2f61d-ce1e-4634-88f4-b91f78a3128a_24\", \"run_number\": 42, \"metric\": null, \"status\": \"Completed\", \"run_type\": \"azureml.scriptrun\", \"training_percent\": \"100\", \"start_time\": \"2021-02-07T13:06:25.361192Z\", \"end_time\": \"2021-02-07T13:07:25.716403Z\", \"created_time\": \"2021-02-07T13:06:14.518304Z\", \"created_time_dt\": \"2021-02-07T13:06:14.518304Z\", \"duration\": \"0:01:11\", \"iteration\": \"24\", \"goal\": \"accuracy_max\", \"run_name\": \"SparseNormalizer, LightGBM\", \"run_properties\": \"<azureml.automl.runtime.shared.model_wrappers.SparseNormalizer object at 0x7f38a068e6a0\", \"primary_metric\": 0.91904762, \"best_metric\": 0.97534461}, {\"run_id\": \"AutoML_12a2f61d-ce1e-4634-88f4-b91f78a3128a_25\", \"run_number\": 43, \"metric\": null, \"status\": \"Completed\", \"run_type\": \"azureml.scriptrun\", \"training_percent\": \"100\", \"start_time\": \"2021-02-07T13:06:35.288674Z\", \"end_time\": \"2021-02-07T13:07:36.954574Z\", \"created_time\": \"2021-02-07T13:06:22.703865Z\", \"created_time_dt\": \"2021-02-07T13:06:22.703865Z\", \"duration\": \"0:01:14\", \"iteration\": \"25\", \"goal\": \"accuracy_max\", \"run_name\": \"SparseNormalizer, LogisticRegression\", \"run_properties\": \"<azureml.automl.runtime.shared.model_wrappers.SparseNormalizer object at 0x7f37eec49cc0\", \"primary_metric\": 0.65012531, \"best_metric\": 0.97534461}, {\"run_id\": \"AutoML_12a2f61d-ce1e-4634-88f4-b91f78a3128a_26\", \"run_number\": 44, \"metric\": null, \"status\": \"Completed\", \"run_type\": \"azureml.scriptrun\", \"training_percent\": \"100\", \"start_time\": \"2021-02-07T13:06:47.632729Z\", \"end_time\": \"2021-02-07T13:07:57.101323Z\", \"created_time\": \"2021-02-07T13:06:32.286886Z\", \"created_time_dt\": \"2021-02-07T13:06:32.286886Z\", \"duration\": \"0:01:24\", \"iteration\": \"26\", \"goal\": \"accuracy_max\", \"run_name\": \"RobustScaler, RandomForest\", \"run_properties\": \"copy=True, quantile_range=[25, 75], with_centering=False,\\n             with_scaling=True\", \"primary_metric\": 0.94724311, \"best_metric\": 0.97534461}, {\"run_id\": \"AutoML_12a2f61d-ce1e-4634-88f4-b91f78a3128a_27\", \"run_number\": 45, \"metric\": null, \"status\": \"Completed\", \"run_type\": \"azureml.scriptrun\", \"training_percent\": \"100\", \"start_time\": \"2021-02-07T13:07:14.690138Z\", \"end_time\": \"2021-02-07T13:08:12.313612Z\", \"created_time\": \"2021-02-07T13:06:45.021809Z\", \"created_time_dt\": \"2021-02-07T13:06:45.021809Z\", \"duration\": \"0:01:27\", \"iteration\": \"27\", \"goal\": \"accuracy_max\", \"run_name\": \"MinMaxScaler, LightGBM\", \"run_properties\": \"copy=True, feature_range=(0, 1\", \"primary_metric\": 0.96651003, \"best_metric\": 0.97534461}, {\"run_id\": \"AutoML_12a2f61d-ce1e-4634-88f4-b91f78a3128a_28\", \"run_number\": 46, \"metric\": null, \"status\": \"Completed\", \"run_type\": \"azureml.scriptrun\", \"training_percent\": \"100\", \"start_time\": \"2021-02-07T13:07:27.66226Z\", \"end_time\": \"2021-02-07T13:08:26.306388Z\", \"created_time\": \"2021-02-07T13:07:13.766845Z\", \"created_time_dt\": \"2021-02-07T13:07:13.766845Z\", \"duration\": \"0:01:12\", \"iteration\": \"28\", \"goal\": \"accuracy_max\", \"run_name\": \"StandardScalerWrapper, LightGBM\", \"run_properties\": \"<azureml.automl.runtime.shared.model_wrappers.StandardScalerWrapper object at 0x7f34d01f5a58\", \"primary_metric\": 0.97180451, \"best_metric\": 0.97534461}, {\"run_id\": \"AutoML_12a2f61d-ce1e-4634-88f4-b91f78a3128a_29\", \"run_number\": 47, \"metric\": null, \"status\": \"Completed\", \"run_type\": \"azureml.scriptrun\", \"training_percent\": \"100\", \"start_time\": \"2021-02-07T13:07:39.283717Z\", \"end_time\": \"2021-02-07T13:08:38.993563Z\", \"created_time\": \"2021-02-07T13:07:27.530636Z\", \"created_time_dt\": \"2021-02-07T13:07:27.530636Z\", \"duration\": \"0:01:11\", \"iteration\": \"29\", \"goal\": \"accuracy_max\", \"run_name\": \"SparseNormalizer, XGBoostClassifier\", \"run_properties\": \"<azureml.automl.runtime.shared.model_wrappers.SparseNormalizer object at 0x7fad386d2d68\", \"primary_metric\": 0.93139098, \"best_metric\": 0.97534461}, {\"run_id\": \"AutoML_12a2f61d-ce1e-4634-88f4-b91f78a3128a_30\", \"run_number\": 48, \"metric\": null, \"status\": \"Completed\", \"run_type\": \"azureml.scriptrun\", \"training_percent\": \"100\", \"start_time\": \"2021-02-07T13:08:00.113302Z\", \"end_time\": \"2021-02-07T13:08:58.086319Z\", \"created_time\": \"2021-02-07T13:07:40.0643Z\", \"created_time_dt\": \"2021-02-07T13:07:40.0643Z\", \"duration\": \"0:01:18\", \"iteration\": \"30\", \"goal\": \"accuracy_max\", \"run_name\": \"PCA, LogisticRegression\", \"run_properties\": \"copy=True, iterated_power='auto', n_components=0.20789473684210527,\\n    random_state=None, svd_solver='auto', tol=0.0, whiten=True\", \"primary_metric\": 0.62734962, \"best_metric\": 0.97534461}, {\"run_id\": \"AutoML_12a2f61d-ce1e-4634-88f4-b91f78a3128a_31\", \"run_number\": 49, \"metric\": null, \"status\": \"Completed\", \"run_type\": \"azureml.scriptrun\", \"training_percent\": \"100\", \"start_time\": \"2021-02-07T13:08:15.487507Z\", \"end_time\": \"2021-02-07T13:09:11.948172Z\", \"created_time\": \"2021-02-07T13:08:00.434767Z\", \"created_time_dt\": \"2021-02-07T13:08:00.434767Z\", \"duration\": \"0:01:11\", \"iteration\": \"31\", \"goal\": \"accuracy_max\", \"run_name\": \"StandardScalerWrapper, LightGBM\", \"run_properties\": \"<azureml.automl.runtime.shared.model_wrappers.StandardScalerWrapper object at 0x7fd8234ea358\", \"primary_metric\": 0.96657268, \"best_metric\": 0.97534461}, {\"run_id\": \"AutoML_12a2f61d-ce1e-4634-88f4-b91f78a3128a_32\", \"run_number\": 50, \"metric\": null, \"status\": \"Completed\", \"run_type\": \"azureml.scriptrun\", \"training_percent\": \"100\", \"start_time\": \"2021-02-07T13:08:29.982035Z\", \"end_time\": \"2021-02-07T13:09:25.227818Z\", \"created_time\": \"2021-02-07T13:08:15.119512Z\", \"created_time_dt\": \"2021-02-07T13:08:15.119512Z\", \"duration\": \"0:01:10\", \"iteration\": \"32\", \"goal\": \"accuracy_max\", \"run_name\": \"StandardScalerWrapper, LightGBM\", \"run_properties\": \"<azureml.automl.runtime.shared.model_wrappers.StandardScalerWrapper object at 0x7f60679b2e80\", \"primary_metric\": 0.94542607, \"best_metric\": 0.97534461}, {\"run_id\": \"AutoML_12a2f61d-ce1e-4634-88f4-b91f78a3128a_33\", \"run_number\": 51, \"metric\": null, \"status\": \"Completed\", \"run_type\": \"azureml.scriptrun\", \"training_percent\": \"100\", \"start_time\": \"2021-02-07T13:08:42.99481Z\", \"end_time\": \"2021-02-07T13:09:51.082929Z\", \"created_time\": \"2021-02-07T13:08:28.010716Z\", \"created_time_dt\": \"2021-02-07T13:08:28.010716Z\", \"duration\": \"0:01:23\", \"iteration\": \"33\", \"goal\": \"accuracy_max\", \"run_name\": \"MinMaxScaler, RandomForest\", \"run_properties\": \"copy=True, feature_range=(0, 1\", \"primary_metric\": 0.93148496, \"best_metric\": 0.97534461}, {\"run_id\": \"AutoML_12a2f61d-ce1e-4634-88f4-b91f78a3128a_34\", \"run_number\": 52, \"metric\": null, \"status\": \"Canceled\", \"run_type\": \"azureml.scriptrun\", \"training_percent\": \"100\", \"start_time\": \"2021-02-07T13:09:00.856162Z\", \"end_time\": \"2021-02-07T13:09:59.371852Z\", \"created_time\": \"2021-02-07T13:08:41.748212Z\", \"created_time_dt\": \"2021-02-07T13:08:41.748212Z\", \"duration\": \"0:01:17\", \"iteration\": \"34\", \"goal\": \"accuracy_max\", \"run_name\": \"MinMaxScaler, LightGBM\", \"run_properties\": \"copy=True, feature_range=(0, 1\", \"primary_metric\": 0.94899749, \"best_metric\": 0.97534461}, {\"run_id\": \"AutoML_12a2f61d-ce1e-4634-88f4-b91f78a3128a_35\", \"run_number\": 53, \"metric\": null, \"status\": \"Canceled\", \"run_type\": \"azureml.scriptrun\", \"training_percent\": \"100\", \"start_time\": \"2021-02-07T13:09:15.212921Z\", \"end_time\": \"2021-02-07T13:09:58.209648Z\", \"created_time\": \"2021-02-07T13:09:01.16055Z\", \"created_time_dt\": \"2021-02-07T13:09:01.16055Z\", \"duration\": \"0:00:57\", \"iteration\": \"35\", \"goal\": \"accuracy_max\", \"run_name\": \"TruncatedSVDWrapper, LogisticRegression\", \"run_properties\": \"n_components=0.40578947368421053, random_state=None\", \"primary_metric\": 0.60805138, \"best_metric\": 0.97534461}, {\"run_id\": \"AutoML_12a2f61d-ce1e-4634-88f4-b91f78a3128a_36\", \"run_number\": 54, \"metric\": null, \"status\": \"Canceled\", \"run_type\": \"azureml.scriptrun\", \"training_percent\": \"100\", \"start_time\": \"2021-02-07T13:09:28.981693Z\", \"end_time\": \"2021-02-07T13:09:58.633502Z\", \"created_time\": \"2021-02-07T13:09:14.745858Z\", \"created_time_dt\": \"2021-02-07T13:09:14.745858Z\", \"duration\": \"0:00:43\", \"iteration\": \"36\", \"goal\": null, \"run_name\": \"StandardScalerWrapper, XGBoostClassifier\", \"run_properties\": null}, {\"run_id\": \"AutoML_12a2f61d-ce1e-4634-88f4-b91f78a3128a_37\", \"run_number\": 55, \"metric\": null, \"status\": \"Canceled\", \"run_type\": \"azureml.scriptrun\", \"training_percent\": \"100\", \"start_time\": \"2021-02-07T13:09:27.082064Z\", \"end_time\": \"2021-02-07T13:09:59.388313Z\", \"created_time\": \"2021-02-07T13:09:27.082064Z\", \"created_time_dt\": \"2021-02-07T13:09:27.082064Z\", \"duration\": \"0:00:32\", \"iteration\": \"37\", \"goal\": null, \"run_name\": \"Canceled\", \"run_properties\": null}, {\"run_id\": \"AutoML_12a2f61d-ce1e-4634-88f4-b91f78a3128a_39\", \"run_number\": 56, \"metric\": null, \"status\": \"Completed\", \"run_type\": \"azureml.scriptrun\", \"training_percent\": \"100\", \"start_time\": \"2021-02-07T13:10:13.444146Z\", \"end_time\": \"2021-02-07T13:12:08.539216Z\", \"created_time\": \"2021-02-07T13:10:01.971931Z\", \"created_time_dt\": \"2021-02-07T13:10:01.971931Z\", \"duration\": \"0:02:06\", \"iteration\": \"39\", \"goal\": \"accuracy_max\", \"run_name\": \"StackEnsemble\", \"run_properties\": \"base_learners=[('6',\\n                                        Pipeline(memory=None,\\n                                                 steps=[('standardscalerwrapper',\\n                                                         <azureml.automl.runtime.shared.model_wrappers.StandardScalerWrapper object at 0x7f11e8ac97b8>\", \"primary_metric\": 0.98414787, \"best_metric\": 0.99116541}, {\"run_id\": \"AutoML_12a2f61d-ce1e-4634-88f4-b91f78a3128a_38\", \"run_number\": 57, \"metric\": null, \"status\": \"Completed\", \"run_type\": \"azureml.scriptrun\", \"training_percent\": \"100\", \"start_time\": \"2021-02-07T13:10:16.005027Z\", \"end_time\": \"2021-02-07T13:12:12.326741Z\", \"created_time\": \"2021-02-07T13:10:02.175952Z\", \"created_time_dt\": \"2021-02-07T13:10:02.175952Z\", \"duration\": \"0:02:10\", \"iteration\": \"38\", \"goal\": \"accuracy_max\", \"run_name\": \"VotingEnsemble\", \"run_properties\": \"classification_labels=None,\\n                              estimators=[('6',\\n                                           Pipeline(memory=None,\\n                                                    steps=[('standardscalerwrapper',\\n                                                            <azureml.automl.runtime.shared.model_wrappers.StandardScalerWrapper object at 0x7f151d0d5eb8>\", \"primary_metric\": 0.99116541, \"best_metric\": 0.99116541}], \"children_metrics\": {\"categories\": [0], \"series\": {\"log_loss\": [{\"categories\": [\"0\", \"1\", \"2\", \"3\", \"4\", \"5\", \"6\", \"7\", \"8\", \"9\", \"10\", \"11\", \"12\", \"13\", \"14\", \"15\", \"16\", \"17\", \"18\", \"19\", \"20\", \"21\", \"22\", \"23\", \"24\", \"25\", \"26\", \"27\", \"28\", \"29\", \"30\", \"31\", \"32\", \"33\", \"34\", \"35\", \"38\", \"39\"], \"mode\": \"markers\", \"name\": \"log_loss\", \"stepped\": false, \"type\": \"scatter\", \"data\": [0.10888666757709387, 0.08515167899094542, 0.20402793827052806, 0.16179941451013158, 0.1356319463996239, 0.14912259904774522, 0.07781825811202084, 0.08074258343797794, 0.14402707300422782, 0.20565299797182907, 0.29586342719661707, 0.08531835914890878, 0.36005303669208777, 0.18837984271211855, 0.7654841790927145, 0.1009955914366896, 0.2491093318236882, 0.15770538181363508, 0.3221178286943771, 0.1590363520732489, 0.171881043146551, 0.36006454539682237, 0.3781578088606483, 0.08754159410010036, 0.20177711936303808, 0.693147083660618, 0.15939993716249085, 0.08720263549576085, 0.07916616289747717, 0.22243971044551847, 0.6619028589289725, 0.10332415699207993, 0.1839109328124817, 0.16752961700471666, 0.18074637432256624, 0.6965488336200832, 0.10714999288513587, 0.0657876658437523]}, {\"categories\": [\"0\", \"1\", \"2\", \"3\", \"4\", \"5\", \"6\", \"7\", \"8\", \"9\", \"10\", \"11\", \"12\", \"13\", \"14\", \"15\", \"16\", \"17\", \"18\", \"19\", \"20\", \"21\", \"22\", \"23\", \"24\", \"25\", \"26\", \"27\", \"28\", \"29\", \"30\", \"31\", \"32\", \"33\", \"34\", \"35\", \"38\", \"39\"], \"mode\": \"lines\", \"name\": \"log_loss_min\", \"stepped\": true, \"type\": \"scatter\", \"data\": [0.10888666757709387, 0.08515167899094542, 0.08515167899094542, 0.08515167899094542, 0.08515167899094542, 0.08515167899094542, 0.07781825811202084, 0.07781825811202084, 0.07781825811202084, 0.07781825811202084, 0.07781825811202084, 0.07781825811202084, 0.07781825811202084, 0.07781825811202084, 0.07781825811202084, 0.07781825811202084, 0.07781825811202084, 0.07781825811202084, 0.07781825811202084, 0.07781825811202084, 0.07781825811202084, 0.07781825811202084, 0.07781825811202084, 0.07781825811202084, 0.07781825811202084, 0.07781825811202084, 0.07781825811202084, 0.07781825811202084, 0.07781825811202084, 0.07781825811202084, 0.07781825811202084, 0.07781825811202084, 0.07781825811202084, 0.07781825811202084, 0.07781825811202084, 0.07781825811202084, 0.07781825811202084, 0.0657876658437523]}], \"average_precision_score_micro\": [{\"categories\": [\"0\", \"1\", \"2\", \"3\", \"4\", \"5\", \"6\", \"7\", \"8\", \"9\", \"10\", \"11\", \"12\", \"13\", \"14\", \"15\", \"16\", \"17\", \"18\", \"19\", \"20\", \"21\", \"22\", \"23\", \"24\", \"25\", \"26\", \"27\", \"28\", \"29\", \"30\", \"31\", \"32\", \"33\", \"34\", \"35\", \"38\", \"39\"], \"mode\": \"markers\", \"name\": \"average_precision_score_micro\", \"stepped\": false, \"type\": \"scatter\", \"data\": [0.9943079820113448, 0.9947792515770647, 0.9861445910415296, 0.9857326653183334, 0.9912600126726581, 0.9865189318025303, 0.9957371886253847, 0.9947813596073878, 0.9862897839568745, 0.9835435609905613, 0.9606651333779602, 0.9941783968165776, 0.9767743579313158, 0.9853343003648126, 0.8980997977653047, 0.99374845086039, 0.983062038607256, 0.9848429211148865, 0.9702446959282875, 0.988180400859019, 0.9834285449519748, 0.9735029431504503, 0.9562240558441365, 0.9940560138082348, 0.9777957163368489, 0.6443248195225029, 0.988444859867531, 0.9941834610914289, 0.9947960298842942, 0.9817447624298572, 0.5827357993077789, 0.9922015160220161, 0.9841016191249438, 0.9837786099118713, 0.9863388633602737, 0.5994998525387375, 0.9942729909305132, 0.9949948418474414]}, {\"categories\": [\"0\", \"1\", \"2\", \"3\", \"4\", \"5\", \"6\", \"7\", \"8\", \"9\", \"10\", \"11\", \"12\", \"13\", \"14\", \"15\", \"16\", \"17\", \"18\", \"19\", \"20\", \"21\", \"22\", \"23\", \"24\", \"25\", \"26\", \"27\", \"28\", \"29\", \"30\", \"31\", \"32\", \"33\", \"34\", \"35\", \"38\", \"39\"], \"mode\": \"lines\", \"name\": \"average_precision_score_micro_max\", \"stepped\": true, \"type\": \"scatter\", \"data\": [0.9943079820113448, 0.9947792515770647, 0.9947792515770647, 0.9947792515770647, 0.9947792515770647, 0.9947792515770647, 0.9957371886253847, 0.9957371886253847, 0.9957371886253847, 0.9957371886253847, 0.9957371886253847, 0.9957371886253847, 0.9957371886253847, 0.9957371886253847, 0.9957371886253847, 0.9957371886253847, 0.9957371886253847, 0.9957371886253847, 0.9957371886253847, 0.9957371886253847, 0.9957371886253847, 0.9957371886253847, 0.9957371886253847, 0.9957371886253847, 0.9957371886253847, 0.9957371886253847, 0.9957371886253847, 0.9957371886253847, 0.9957371886253847, 0.9957371886253847, 0.9957371886253847, 0.9957371886253847, 0.9957371886253847, 0.9957371886253847, 0.9957371886253847, 0.9957371886253847, 0.9957371886253847, 0.9957371886253847]}], \"AUC_weighted\": [{\"categories\": [\"0\", \"1\", \"2\", \"3\", \"4\", \"5\", \"6\", \"7\", \"8\", \"9\", \"10\", \"11\", \"12\", \"13\", \"14\", \"15\", \"16\", \"17\", \"18\", \"19\", \"20\", \"21\", \"22\", \"23\", \"24\", \"25\", \"26\", \"27\", \"28\", \"29\", \"30\", \"31\", \"32\", \"33\", \"34\", \"35\", \"38\", \"39\"], \"mode\": \"markers\", \"name\": \"AUC_weighted\", \"stepped\": false, \"type\": \"scatter\", \"data\": [0.9937825942054515, 0.9944346969593132, 0.9872996259626324, 0.9846827561303192, 0.991086168293166, 0.9854811533802865, 0.9946795185385338, 0.993561645402178, 0.9859768260557236, 0.986831171777322, 0.9578139579555598, 0.9937575101794085, 0.9723150497934816, 0.9858563441893529, 0.906914014664193, 0.9924513419726274, 0.9862201001426303, 0.9839142458807674, 0.972641482119639, 0.98880726488101, 0.9825575691060584, 0.9713335544287413, 0.9539662765870315, 0.9935803213675323, 0.9741429403810932, 0.6687341606136437, 0.9879784280833768, 0.9938583417734298, 0.9943174470949409, 0.9812882853444472, 0.450188059941978, 0.991783406717959, 0.9861199151990727, 0.9835531838991143, 0.9876224575707863, 0.5160523492651831, 0.995111543827017, 0.9947201619778347]}, {\"categories\": [\"0\", \"1\", \"2\", \"3\", \"4\", \"5\", \"6\", \"7\", \"8\", \"9\", \"10\", \"11\", \"12\", \"13\", \"14\", \"15\", \"16\", \"17\", \"18\", \"19\", \"20\", \"21\", \"22\", \"23\", \"24\", \"25\", \"26\", \"27\", \"28\", \"29\", \"30\", \"31\", \"32\", \"33\", \"34\", \"35\", \"38\", \"39\"], \"mode\": \"lines\", \"name\": \"AUC_weighted_max\", \"stepped\": true, \"type\": \"scatter\", \"data\": [0.9937825942054515, 0.9944346969593132, 0.9944346969593132, 0.9944346969593132, 0.9944346969593132, 0.9944346969593132, 0.9946795185385338, 0.9946795185385338, 0.9946795185385338, 0.9946795185385338, 0.9946795185385338, 0.9946795185385338, 0.9946795185385338, 0.9946795185385338, 0.9946795185385338, 0.9946795185385338, 0.9946795185385338, 0.9946795185385338, 0.9946795185385338, 0.9946795185385338, 0.9946795185385338, 0.9946795185385338, 0.9946795185385338, 0.9946795185385338, 0.9946795185385338, 0.9946795185385338, 0.9946795185385338, 0.9946795185385338, 0.9946795185385338, 0.9946795185385338, 0.9946795185385338, 0.9946795185385338, 0.9946795185385338, 0.9946795185385338, 0.9946795185385338, 0.9946795185385338, 0.995111543827017, 0.995111543827017]}], \"recall_score_micro\": [{\"categories\": [\"0\", \"1\", \"2\", \"3\", \"4\", \"5\", \"6\", \"7\", \"8\", \"9\", \"10\", \"11\", \"12\", \"13\", \"14\", \"15\", \"16\", \"17\", \"18\", \"19\", \"20\", \"21\", \"22\", \"23\", \"24\", \"25\", \"26\", \"27\", \"28\", \"29\", \"30\", \"31\", \"32\", \"33\", \"34\", \"35\", \"38\", \"39\"], \"mode\": \"markers\", \"name\": \"recall_score_micro\", \"stepped\": false, \"type\": \"scatter\", \"data\": [0.970081453634085, 0.968295739348371, 0.9489974937343358, 0.9384398496240604, 0.9524749373433584, 0.9313909774436089, 0.975344611528822, 0.9717731829573936, 0.9437343358395991, 0.9542606516290727, 0.887374686716792, 0.9683270676691729, 0.9173872180451127, 0.9507205513784461, 0.8294486215538848, 0.968295739348371, 0.9472744360902257, 0.9278822055137844, 0.9279135338345865, 0.948966165413534, 0.9278822055137844, 0.9015977443609022, 0.9050751879699247, 0.9647869674185463, 0.9190476190476191, 0.650125313283208, 0.9472431077694236, 0.9665100250626567, 0.9718045112781957, 0.9313909774436089, 0.6273496240601505, 0.9665726817042606, 0.9454260651629072, 0.931484962406015, 0.9489974937343358, 0.6080513784461153, 0.9911654135338346, 0.9841478696741854]}, {\"categories\": [\"0\", \"1\", \"2\", \"3\", \"4\", \"5\", \"6\", \"7\", \"8\", \"9\", \"10\", \"11\", \"12\", \"13\", \"14\", \"15\", \"16\", \"17\", \"18\", \"19\", \"20\", \"21\", \"22\", \"23\", \"24\", \"25\", \"26\", \"27\", \"28\", \"29\", \"30\", \"31\", \"32\", \"33\", \"34\", \"35\", \"38\", \"39\"], \"mode\": \"lines\", \"name\": \"recall_score_micro_max\", \"stepped\": true, \"type\": \"scatter\", \"data\": [0.970081453634085, 0.970081453634085, 0.970081453634085, 0.970081453634085, 0.970081453634085, 0.970081453634085, 0.975344611528822, 0.975344611528822, 0.975344611528822, 0.975344611528822, 0.975344611528822, 0.975344611528822, 0.975344611528822, 0.975344611528822, 0.975344611528822, 0.975344611528822, 0.975344611528822, 0.975344611528822, 0.975344611528822, 0.975344611528822, 0.975344611528822, 0.975344611528822, 0.975344611528822, 0.975344611528822, 0.975344611528822, 0.975344611528822, 0.975344611528822, 0.975344611528822, 0.975344611528822, 0.975344611528822, 0.975344611528822, 0.975344611528822, 0.975344611528822, 0.975344611528822, 0.975344611528822, 0.975344611528822, 0.9911654135338346, 0.9911654135338346]}], \"f1_score_macro\": [{\"categories\": [\"0\", \"1\", \"2\", \"3\", \"4\", \"5\", \"6\", \"7\", \"8\", \"9\", \"10\", \"11\", \"12\", \"13\", \"14\", \"15\", \"16\", \"17\", \"18\", \"19\", \"20\", \"21\", \"22\", \"23\", \"24\", \"25\", \"26\", \"27\", \"28\", \"29\", \"30\", \"31\", \"32\", \"33\", \"34\", \"35\", \"38\", \"39\"], \"mode\": \"markers\", \"name\": \"f1_score_macro\", \"stepped\": false, \"type\": \"scatter\", \"data\": [0.9672623696424614, 0.9656036395734564, 0.9439185380692285, 0.9320935969857412, 0.9486315566402641, 0.9247787376679509, 0.9729363717387892, 0.9693178077307003, 0.9389273004714236, 0.9497893476411383, 0.8756888204045309, 0.9656622194188932, 0.9058913662654516, 0.9466266868702704, 0.7979601363074788, 0.9653023122300859, 0.942352404867527, 0.9194252129787429, 0.9220860965032873, 0.9431621828619352, 0.9192854822877242, 0.8908481354200752, 0.8925994022439167, 0.9619421047730754, 0.9069060239642759, 0.519168757022192, 0.9420167486531653, 0.9632593396383792, 0.9700009931957873, 0.9229857542307635, 0.38483266157103707, 0.9637621770476498, 0.940919055060637, 0.925389422136812, 0.9445424224757695, 0.37622002420839973, 0.9908111439569242, 0.9829780171407336]}, {\"categories\": [\"0\", \"1\", \"2\", \"3\", \"4\", \"5\", \"6\", \"7\", \"8\", \"9\", \"10\", \"11\", \"12\", \"13\", \"14\", \"15\", \"16\", \"17\", \"18\", \"19\", \"20\", \"21\", \"22\", \"23\", \"24\", \"25\", \"26\", \"27\", \"28\", \"29\", \"30\", \"31\", \"32\", \"33\", \"34\", \"35\", \"38\", \"39\"], \"mode\": \"lines\", \"name\": \"f1_score_macro_max\", \"stepped\": true, \"type\": \"scatter\", \"data\": [0.9672623696424614, 0.9672623696424614, 0.9672623696424614, 0.9672623696424614, 0.9672623696424614, 0.9672623696424614, 0.9729363717387892, 0.9729363717387892, 0.9729363717387892, 0.9729363717387892, 0.9729363717387892, 0.9729363717387892, 0.9729363717387892, 0.9729363717387892, 0.9729363717387892, 0.9729363717387892, 0.9729363717387892, 0.9729363717387892, 0.9729363717387892, 0.9729363717387892, 0.9729363717387892, 0.9729363717387892, 0.9729363717387892, 0.9729363717387892, 0.9729363717387892, 0.9729363717387892, 0.9729363717387892, 0.9729363717387892, 0.9729363717387892, 0.9729363717387892, 0.9729363717387892, 0.9729363717387892, 0.9729363717387892, 0.9729363717387892, 0.9729363717387892, 0.9729363717387892, 0.9908111439569242, 0.9908111439569242]}], \"recall_score_weighted\": [{\"categories\": [\"0\", \"1\", \"2\", \"3\", \"4\", \"5\", \"6\", \"7\", \"8\", \"9\", \"10\", \"11\", \"12\", \"13\", \"14\", \"15\", \"16\", \"17\", \"18\", \"19\", \"20\", \"21\", \"22\", \"23\", \"24\", \"25\", \"26\", \"27\", \"28\", \"29\", \"30\", \"31\", \"32\", \"33\", \"34\", \"35\", \"38\", \"39\"], \"mode\": \"markers\", \"name\": \"recall_score_weighted\", \"stepped\": false, \"type\": \"scatter\", \"data\": [0.970081453634085, 0.968295739348371, 0.9489974937343358, 0.9384398496240604, 0.9524749373433584, 0.9313909774436089, 0.975344611528822, 0.9717731829573936, 0.9437343358395991, 0.9542606516290727, 0.887374686716792, 0.9683270676691729, 0.9173872180451127, 0.9507205513784461, 0.8294486215538848, 0.968295739348371, 0.9472744360902257, 0.9278822055137844, 0.9279135338345865, 0.948966165413534, 0.9278822055137844, 0.9015977443609022, 0.9050751879699247, 0.9647869674185463, 0.9190476190476191, 0.650125313283208, 0.9472431077694236, 0.9665100250626567, 0.9718045112781957, 0.9313909774436089, 0.6273496240601505, 0.9665726817042606, 0.9454260651629072, 0.931484962406015, 0.9489974937343358, 0.6080513784461153, 0.9911654135338346, 0.9841478696741854]}, {\"categories\": [\"0\", \"1\", \"2\", \"3\", \"4\", \"5\", \"6\", \"7\", \"8\", \"9\", \"10\", \"11\", \"12\", \"13\", \"14\", \"15\", \"16\", \"17\", \"18\", \"19\", \"20\", \"21\", \"22\", \"23\", \"24\", \"25\", \"26\", \"27\", \"28\", \"29\", \"30\", \"31\", \"32\", \"33\", \"34\", \"35\", \"38\", \"39\"], \"mode\": \"lines\", \"name\": \"recall_score_weighted_max\", \"stepped\": true, \"type\": \"scatter\", \"data\": [0.970081453634085, 0.970081453634085, 0.970081453634085, 0.970081453634085, 0.970081453634085, 0.970081453634085, 0.975344611528822, 0.975344611528822, 0.975344611528822, 0.975344611528822, 0.975344611528822, 0.975344611528822, 0.975344611528822, 0.975344611528822, 0.975344611528822, 0.975344611528822, 0.975344611528822, 0.975344611528822, 0.975344611528822, 0.975344611528822, 0.975344611528822, 0.975344611528822, 0.975344611528822, 0.975344611528822, 0.975344611528822, 0.975344611528822, 0.975344611528822, 0.975344611528822, 0.975344611528822, 0.975344611528822, 0.975344611528822, 0.975344611528822, 0.975344611528822, 0.975344611528822, 0.975344611528822, 0.975344611528822, 0.9911654135338346, 0.9911654135338346]}], \"norm_macro_recall\": [{\"categories\": [\"0\", \"1\", \"2\", \"3\", \"4\", \"5\", \"6\", \"7\", \"8\", \"9\", \"10\", \"11\", \"12\", \"13\", \"14\", \"15\", \"16\", \"17\", \"18\", \"19\", \"20\", \"21\", \"22\", \"23\", \"24\", \"25\", \"26\", \"27\", \"28\", \"29\", \"30\", \"31\", \"32\", \"33\", \"34\", \"35\", \"38\", \"39\"], \"mode\": \"markers\", \"name\": \"norm_macro_recall\", \"stepped\": false, \"type\": \"scatter\", \"data\": [0.9254593517451575, 0.9258945218606343, 0.8885967994668553, 0.866504212767417, 0.9010824509711235, 0.8435404561302157, 0.951871319631721, 0.9335035199251951, 0.876111243859571, 0.8904358469748495, 0.7400999892809356, 0.923379575135969, 0.7997265102647247, 0.8870600172793267, 0.5653326166896395, 0.9288469678532874, 0.8771195681291589, 0.8313431410837957, 0.8366961785066005, 0.8828742520128501, 0.8301354116151967, 0.7770267284766333, 0.7669302175481099, 0.9187649437822071, 0.7914395741316352, 0.10819642650965142, 0.8844969258375699, 0.9225496705559901, 0.9373457094217965, 0.8362349727147578, 0.0, 0.9214017724267085, 0.8752447069857556, 0.8537951649334433, 0.8816430618623713, 0.0, 0.9794836956521739, 0.9660919377862369]}, {\"categories\": [\"0\", \"1\", \"2\", \"3\", \"4\", \"5\", \"6\", \"7\", \"8\", \"9\", \"10\", \"11\", \"12\", \"13\", \"14\", \"15\", \"16\", \"17\", \"18\", \"19\", \"20\", \"21\", \"22\", \"23\", \"24\", \"25\", \"26\", \"27\", \"28\", \"29\", \"30\", \"31\", \"32\", \"33\", \"34\", \"35\", \"38\", \"39\"], \"mode\": \"lines\", \"name\": \"norm_macro_recall_max\", \"stepped\": true, \"type\": \"scatter\", \"data\": [0.9254593517451575, 0.9258945218606343, 0.9258945218606343, 0.9258945218606343, 0.9258945218606343, 0.9258945218606343, 0.951871319631721, 0.951871319631721, 0.951871319631721, 0.951871319631721, 0.951871319631721, 0.951871319631721, 0.951871319631721, 0.951871319631721, 0.951871319631721, 0.951871319631721, 0.951871319631721, 0.951871319631721, 0.951871319631721, 0.951871319631721, 0.951871319631721, 0.951871319631721, 0.951871319631721, 0.951871319631721, 0.951871319631721, 0.951871319631721, 0.951871319631721, 0.951871319631721, 0.951871319631721, 0.951871319631721, 0.951871319631721, 0.951871319631721, 0.951871319631721, 0.951871319631721, 0.951871319631721, 0.951871319631721, 0.9794836956521739, 0.9794836956521739]}], \"AUC_macro\": [{\"categories\": [\"0\", \"1\", \"2\", \"3\", \"4\", \"5\", \"6\", \"7\", \"8\", \"9\", \"10\", \"11\", \"12\", \"13\", \"14\", \"15\", \"16\", \"17\", \"18\", \"19\", \"20\", \"21\", \"22\", \"23\", \"24\", \"25\", \"26\", \"27\", \"28\", \"29\", \"30\", \"31\", \"32\", \"33\", \"34\", \"35\", \"38\", \"39\"], \"mode\": \"markers\", \"name\": \"AUC_macro\", \"stepped\": false, \"type\": \"scatter\", \"data\": [0.9937825942054515, 0.9944346969593132, 0.9872996259626324, 0.9846827561303192, 0.991086168293166, 0.9854811533802865, 0.9946795185385339, 0.993561645402178, 0.9859768260557236, 0.986831171777322, 0.9578139579555598, 0.9937575101794085, 0.9723150497934817, 0.9858563441893529, 0.9069140146641932, 0.9924513419726274, 0.9862201001426303, 0.9839142458807674, 0.972641482119639, 0.98880726488101, 0.9825575691060584, 0.9713335544287413, 0.9539662765870315, 0.9935803213675323, 0.9741429403810932, 0.6687341606136437, 0.9879784280833768, 0.9938583417734298, 0.9943174470949409, 0.9812882853444472, 0.450188059941978, 0.991783406717959, 0.9861199151990727, 0.9835531838991141, 0.9876224575707863, 0.5160523492651831, 0.995111543827017, 0.9947201619778347]}, {\"categories\": [\"0\", \"1\", \"2\", \"3\", \"4\", \"5\", \"6\", \"7\", \"8\", \"9\", \"10\", \"11\", \"12\", \"13\", \"14\", \"15\", \"16\", \"17\", \"18\", \"19\", \"20\", \"21\", \"22\", \"23\", \"24\", \"25\", \"26\", \"27\", \"28\", \"29\", \"30\", \"31\", \"32\", \"33\", \"34\", \"35\", \"38\", \"39\"], \"mode\": \"lines\", \"name\": \"AUC_macro_max\", \"stepped\": true, \"type\": \"scatter\", \"data\": [0.9937825942054515, 0.9944346969593132, 0.9944346969593132, 0.9944346969593132, 0.9944346969593132, 0.9944346969593132, 0.9946795185385339, 0.9946795185385339, 0.9946795185385339, 0.9946795185385339, 0.9946795185385339, 0.9946795185385339, 0.9946795185385339, 0.9946795185385339, 0.9946795185385339, 0.9946795185385339, 0.9946795185385339, 0.9946795185385339, 0.9946795185385339, 0.9946795185385339, 0.9946795185385339, 0.9946795185385339, 0.9946795185385339, 0.9946795185385339, 0.9946795185385339, 0.9946795185385339, 0.9946795185385339, 0.9946795185385339, 0.9946795185385339, 0.9946795185385339, 0.9946795185385339, 0.9946795185385339, 0.9946795185385339, 0.9946795185385339, 0.9946795185385339, 0.9946795185385339, 0.995111543827017, 0.995111543827017]}], \"AUC_micro\": [{\"categories\": [\"0\", \"1\", \"2\", \"3\", \"4\", \"5\", \"6\", \"7\", \"8\", \"9\", \"10\", \"11\", \"12\", \"13\", \"14\", \"15\", \"16\", \"17\", \"18\", \"19\", \"20\", \"21\", \"22\", \"23\", \"24\", \"25\", \"26\", \"27\", \"28\", \"29\", \"30\", \"31\", \"32\", \"33\", \"34\", \"35\", \"38\", \"39\"], \"mode\": \"markers\", \"name\": \"AUC_micro\", \"stepped\": false, \"type\": \"scatter\", \"data\": [0.994137354272272, 0.9945868351957587, 0.9868705382660913, 0.9856264937877274, 0.9909469102738047, 0.9861088341153635, 0.9955639902544583, 0.9947132771622037, 0.986264945728984, 0.9862618933769258, 0.9602353314363604, 0.994163696757558, 0.9756798500794593, 0.9861584667338773, 0.904123276157185, 0.9935337050332599, 0.9843358690429082, 0.9846248021369213, 0.9740201557308058, 0.9885506078008305, 0.9832661030709607, 0.9725287725893681, 0.9608356436988462, 0.9941032484092436, 0.9777592182995081, 0.6812073652175552, 0.9880656371505205, 0.9941329180564192, 0.9946594831376687, 0.981498683268321, 0.6044144960615825, 0.9923433171745153, 0.9859089099628772, 0.9843929902293327, 0.9874919323685154, 0.6147353522433904, 0.9950507338207675, 0.9951012006834128]}, {\"categories\": [\"0\", \"1\", \"2\", \"3\", \"4\", \"5\", \"6\", \"7\", \"8\", \"9\", \"10\", \"11\", \"12\", \"13\", \"14\", \"15\", \"16\", \"17\", \"18\", \"19\", \"20\", \"21\", \"22\", \"23\", \"24\", \"25\", \"26\", \"27\", \"28\", \"29\", \"30\", \"31\", \"32\", \"33\", \"34\", \"35\", \"38\", \"39\"], \"mode\": \"lines\", \"name\": \"AUC_micro_max\", \"stepped\": true, \"type\": \"scatter\", \"data\": [0.994137354272272, 0.9945868351957587, 0.9945868351957587, 0.9945868351957587, 0.9945868351957587, 0.9945868351957587, 0.9955639902544583, 0.9955639902544583, 0.9955639902544583, 0.9955639902544583, 0.9955639902544583, 0.9955639902544583, 0.9955639902544583, 0.9955639902544583, 0.9955639902544583, 0.9955639902544583, 0.9955639902544583, 0.9955639902544583, 0.9955639902544583, 0.9955639902544583, 0.9955639902544583, 0.9955639902544583, 0.9955639902544583, 0.9955639902544583, 0.9955639902544583, 0.9955639902544583, 0.9955639902544583, 0.9955639902544583, 0.9955639902544583, 0.9955639902544583, 0.9955639902544583, 0.9955639902544583, 0.9955639902544583, 0.9955639902544583, 0.9955639902544583, 0.9955639902544583, 0.9955639902544583, 0.9955639902544583]}], \"f1_score_micro\": [{\"categories\": [\"0\", \"1\", \"2\", \"3\", \"4\", \"5\", \"6\", \"7\", \"8\", \"9\", \"10\", \"11\", \"12\", \"13\", \"14\", \"15\", \"16\", \"17\", \"18\", \"19\", \"20\", \"21\", \"22\", \"23\", \"24\", \"25\", \"26\", \"27\", \"28\", \"29\", \"30\", \"31\", \"32\", \"33\", \"34\", \"35\", \"38\", \"39\"], \"mode\": \"markers\", \"name\": \"f1_score_micro\", \"stepped\": false, \"type\": \"scatter\", \"data\": [0.970081453634085, 0.968295739348371, 0.9489974937343358, 0.9384398496240604, 0.9524749373433584, 0.9313909774436089, 0.975344611528822, 0.9717731829573936, 0.9437343358395991, 0.9542606516290727, 0.887374686716792, 0.9683270676691729, 0.9173872180451127, 0.9507205513784461, 0.8294486215538848, 0.968295739348371, 0.9472744360902257, 0.9278822055137844, 0.9279135338345865, 0.948966165413534, 0.9278822055137844, 0.9015977443609022, 0.9050751879699247, 0.9647869674185463, 0.9190476190476191, 0.650125313283208, 0.9472431077694236, 0.9665100250626567, 0.9718045112781957, 0.9313909774436089, 0.6273496240601505, 0.9665726817042606, 0.9454260651629072, 0.931484962406015, 0.9489974937343358, 0.6080513784461153, 0.9911654135338346, 0.9841478696741854]}, {\"categories\": [\"0\", \"1\", \"2\", \"3\", \"4\", \"5\", \"6\", \"7\", \"8\", \"9\", \"10\", \"11\", \"12\", \"13\", \"14\", \"15\", \"16\", \"17\", \"18\", \"19\", \"20\", \"21\", \"22\", \"23\", \"24\", \"25\", \"26\", \"27\", \"28\", \"29\", \"30\", \"31\", \"32\", \"33\", \"34\", \"35\", \"38\", \"39\"], \"mode\": \"lines\", \"name\": \"f1_score_micro_max\", \"stepped\": true, \"type\": \"scatter\", \"data\": [0.970081453634085, 0.970081453634085, 0.970081453634085, 0.970081453634085, 0.970081453634085, 0.970081453634085, 0.975344611528822, 0.975344611528822, 0.975344611528822, 0.975344611528822, 0.975344611528822, 0.975344611528822, 0.975344611528822, 0.975344611528822, 0.975344611528822, 0.975344611528822, 0.975344611528822, 0.975344611528822, 0.975344611528822, 0.975344611528822, 0.975344611528822, 0.975344611528822, 0.975344611528822, 0.975344611528822, 0.975344611528822, 0.975344611528822, 0.975344611528822, 0.975344611528822, 0.975344611528822, 0.975344611528822, 0.975344611528822, 0.975344611528822, 0.975344611528822, 0.975344611528822, 0.975344611528822, 0.975344611528822, 0.9911654135338346, 0.9911654135338346]}], \"precision_score_micro\": [{\"categories\": [\"0\", \"1\", \"2\", \"3\", \"4\", \"5\", \"6\", \"7\", \"8\", \"9\", \"10\", \"11\", \"12\", \"13\", \"14\", \"15\", \"16\", \"17\", \"18\", \"19\", \"20\", \"21\", \"22\", \"23\", \"24\", \"25\", \"26\", \"27\", \"28\", \"29\", \"30\", \"31\", \"32\", \"33\", \"34\", \"35\", \"38\", \"39\"], \"mode\": \"markers\", \"name\": \"precision_score_micro\", \"stepped\": false, \"type\": \"scatter\", \"data\": [0.970081453634085, 0.968295739348371, 0.9489974937343358, 0.9384398496240604, 0.9524749373433584, 0.9313909774436089, 0.975344611528822, 0.9717731829573936, 0.9437343358395991, 0.9542606516290727, 0.887374686716792, 0.9683270676691729, 0.9173872180451127, 0.9507205513784461, 0.8294486215538848, 0.968295739348371, 0.9472744360902257, 0.9278822055137844, 0.9279135338345865, 0.948966165413534, 0.9278822055137844, 0.9015977443609022, 0.9050751879699247, 0.9647869674185463, 0.9190476190476191, 0.650125313283208, 0.9472431077694236, 0.9665100250626567, 0.9718045112781957, 0.9313909774436089, 0.6273496240601505, 0.9665726817042606, 0.9454260651629072, 0.931484962406015, 0.9489974937343358, 0.6080513784461153, 0.9911654135338346, 0.9841478696741854]}, {\"categories\": [\"0\", \"1\", \"2\", \"3\", \"4\", \"5\", \"6\", \"7\", \"8\", \"9\", \"10\", \"11\", \"12\", \"13\", \"14\", \"15\", \"16\", \"17\", \"18\", \"19\", \"20\", \"21\", \"22\", \"23\", \"24\", \"25\", \"26\", \"27\", \"28\", \"29\", \"30\", \"31\", \"32\", \"33\", \"34\", \"35\", \"38\", \"39\"], \"mode\": \"lines\", \"name\": \"precision_score_micro_max\", \"stepped\": true, \"type\": \"scatter\", \"data\": [0.970081453634085, 0.970081453634085, 0.970081453634085, 0.970081453634085, 0.970081453634085, 0.970081453634085, 0.975344611528822, 0.975344611528822, 0.975344611528822, 0.975344611528822, 0.975344611528822, 0.975344611528822, 0.975344611528822, 0.975344611528822, 0.975344611528822, 0.975344611528822, 0.975344611528822, 0.975344611528822, 0.975344611528822, 0.975344611528822, 0.975344611528822, 0.975344611528822, 0.975344611528822, 0.975344611528822, 0.975344611528822, 0.975344611528822, 0.975344611528822, 0.975344611528822, 0.975344611528822, 0.975344611528822, 0.975344611528822, 0.975344611528822, 0.975344611528822, 0.975344611528822, 0.975344611528822, 0.975344611528822, 0.9911654135338346, 0.9911654135338346]}], \"recall_score_macro\": [{\"categories\": [\"0\", \"1\", \"2\", \"3\", \"4\", \"5\", \"6\", \"7\", \"8\", \"9\", \"10\", \"11\", \"12\", \"13\", \"14\", \"15\", \"16\", \"17\", \"18\", \"19\", \"20\", \"21\", \"22\", \"23\", \"24\", \"25\", \"26\", \"27\", \"28\", \"29\", \"30\", \"31\", \"32\", \"33\", \"34\", \"35\", \"38\", \"39\"], \"mode\": \"markers\", \"name\": \"recall_score_macro\", \"stepped\": false, \"type\": \"scatter\", \"data\": [0.9627296758725785, 0.9629472609303171, 0.9442983997334276, 0.9332521063837085, 0.9505412254855617, 0.9217702280651079, 0.9759356598158604, 0.9667517599625978, 0.9380556219297855, 0.9452179234874247, 0.8700499946404678, 0.9616897875679846, 0.8998632551323624, 0.9435300086396634, 0.7826663083448197, 0.9644234839266437, 0.9385597840645794, 0.9156715705418979, 0.9183480892533001, 0.941437126006425, 0.9150677058075983, 0.8885133642383167, 0.883465108774055, 0.9593824718911035, 0.8957197870658176, 0.5540982132548258, 0.9422484629187851, 0.9612748352779953, 0.9686728547108983, 0.9181174863573789, 0.5, 0.9607008862133541, 0.9376223534928778, 0.9268975824667217, 0.9408215309311856, 0.5, 0.9897418478260869, 0.9830459688931186]}, {\"categories\": [\"0\", \"1\", \"2\", \"3\", \"4\", \"5\", \"6\", \"7\", \"8\", \"9\", \"10\", \"11\", \"12\", \"13\", \"14\", \"15\", \"16\", \"17\", \"18\", \"19\", \"20\", \"21\", \"22\", \"23\", \"24\", \"25\", \"26\", \"27\", \"28\", \"29\", \"30\", \"31\", \"32\", \"33\", \"34\", \"35\", \"38\", \"39\"], \"mode\": \"lines\", \"name\": \"recall_score_macro_max\", \"stepped\": true, \"type\": \"scatter\", \"data\": [0.9627296758725785, 0.9629472609303171, 0.9629472609303171, 0.9629472609303171, 0.9629472609303171, 0.9629472609303171, 0.9759356598158604, 0.9759356598158604, 0.9759356598158604, 0.9759356598158604, 0.9759356598158604, 0.9759356598158604, 0.9759356598158604, 0.9759356598158604, 0.9759356598158604, 0.9759356598158604, 0.9759356598158604, 0.9759356598158604, 0.9759356598158604, 0.9759356598158604, 0.9759356598158604, 0.9759356598158604, 0.9759356598158604, 0.9759356598158604, 0.9759356598158604, 0.9759356598158604, 0.9759356598158604, 0.9759356598158604, 0.9759356598158604, 0.9759356598158604, 0.9759356598158604, 0.9759356598158604, 0.9759356598158604, 0.9759356598158604, 0.9759356598158604, 0.9759356598158604, 0.9897418478260869, 0.9897418478260869]}], \"f1_score_weighted\": [{\"categories\": [\"0\", \"1\", \"2\", \"3\", \"4\", \"5\", \"6\", \"7\", \"8\", \"9\", \"10\", \"11\", \"12\", \"13\", \"14\", \"15\", \"16\", \"17\", \"18\", \"19\", \"20\", \"21\", \"22\", \"23\", \"24\", \"25\", \"26\", \"27\", \"28\", \"29\", \"30\", \"31\", \"32\", \"33\", \"34\", \"35\", \"38\", \"39\"], \"mode\": \"markers\", \"name\": \"f1_score_weighted\", \"stepped\": false, \"type\": \"scatter\", \"data\": [0.969863259818128, 0.9681205952764186, 0.9487000622852477, 0.9379420247459602, 0.9524748006567428, 0.930952776731135, 0.9753917940377335, 0.9716048760360257, 0.9435312724354692, 0.9536130143532754, 0.8864041700814671, 0.9680947734581276, 0.9162847863964071, 0.9502629793008033, 0.8189130191624546, 0.9681700439008818, 0.9466072641830883, 0.9271609581134796, 0.9276568422057714, 0.9483395754433189, 0.9271939317245834, 0.9012273730715572, 0.9032726434319482, 0.9646217268101438, 0.917161251869014, 0.5856606079065055, 0.9468736387229489, 0.9662671151028521, 0.9716330141129266, 0.930621709694188, 0.4850339249782264, 0.9664330127377945, 0.9450001685335756, 0.9310802950664524, 0.9485575859044127, 0.463662708475431, 0.9911264814041095, 0.9841312478108355]}, {\"categories\": [\"0\", \"1\", \"2\", \"3\", \"4\", \"5\", \"6\", \"7\", \"8\", \"9\", \"10\", \"11\", \"12\", \"13\", \"14\", \"15\", \"16\", \"17\", \"18\", \"19\", \"20\", \"21\", \"22\", \"23\", \"24\", \"25\", \"26\", \"27\", \"28\", \"29\", \"30\", \"31\", \"32\", \"33\", \"34\", \"35\", \"38\", \"39\"], \"mode\": \"lines\", \"name\": \"f1_score_weighted_max\", \"stepped\": true, \"type\": \"scatter\", \"data\": [0.969863259818128, 0.969863259818128, 0.969863259818128, 0.969863259818128, 0.969863259818128, 0.969863259818128, 0.9753917940377335, 0.9753917940377335, 0.9753917940377335, 0.9753917940377335, 0.9753917940377335, 0.9753917940377335, 0.9753917940377335, 0.9753917940377335, 0.9753917940377335, 0.9753917940377335, 0.9753917940377335, 0.9753917940377335, 0.9753917940377335, 0.9753917940377335, 0.9753917940377335, 0.9753917940377335, 0.9753917940377335, 0.9753917940377335, 0.9753917940377335, 0.9753917940377335, 0.9753917940377335, 0.9753917940377335, 0.9753917940377335, 0.9753917940377335, 0.9753917940377335, 0.9753917940377335, 0.9753917940377335, 0.9753917940377335, 0.9753917940377335, 0.9753917940377335, 0.9911264814041095, 0.9911264814041095]}], \"precision_score_weighted\": [{\"categories\": [\"0\", \"1\", \"2\", \"3\", \"4\", \"5\", \"6\", \"7\", \"8\", \"9\", \"10\", \"11\", \"12\", \"13\", \"14\", \"15\", \"16\", \"17\", \"18\", \"19\", \"20\", \"21\", \"22\", \"23\", \"24\", \"25\", \"26\", \"27\", \"28\", \"29\", \"30\", \"31\", \"32\", \"33\", \"34\", \"35\", \"38\", \"39\"], \"mode\": \"markers\", \"name\": \"precision_score_weighted\", \"stepped\": false, \"type\": \"scatter\", \"data\": [0.9711872698050765, 0.9690178621066323, 0.9507459104541217, 0.9426132800071627, 0.953774413614453, 0.9336929698277953, 0.9768817783862798, 0.972340777681844, 0.9460215561844633, 0.956922440731443, 0.8900396103829127, 0.9696035385180123, 0.919142816489674, 0.9527380950715438, 0.8480708768052937, 0.9695782736781242, 0.9493009185448443, 0.9293645722692453, 0.930169925850104, 0.9519473883962304, 0.9296437336195055, 0.9038524211063528, 0.9087395923561195, 0.9656491659123239, 0.9218158135817569, 0.6335581884191962, 0.9496843108121302, 0.9676530782365269, 0.973413021529365, 0.9334600373505342, 0.39656017589399567, 0.9674206872562134, 0.9477481795449669, 0.9343729714553459, 0.9508563349876169, 0.3772619302799606, 0.9915372221763198, 0.984948337496484]}, {\"categories\": [\"0\", \"1\", \"2\", \"3\", \"4\", \"5\", \"6\", \"7\", \"8\", \"9\", \"10\", \"11\", \"12\", \"13\", \"14\", \"15\", \"16\", \"17\", \"18\", \"19\", \"20\", \"21\", \"22\", \"23\", \"24\", \"25\", \"26\", \"27\", \"28\", \"29\", \"30\", \"31\", \"32\", \"33\", \"34\", \"35\", \"38\", \"39\"], \"mode\": \"lines\", \"name\": \"precision_score_weighted_max\", \"stepped\": true, \"type\": \"scatter\", \"data\": [0.9711872698050765, 0.9711872698050765, 0.9711872698050765, 0.9711872698050765, 0.9711872698050765, 0.9711872698050765, 0.9768817783862798, 0.9768817783862798, 0.9768817783862798, 0.9768817783862798, 0.9768817783862798, 0.9768817783862798, 0.9768817783862798, 0.9768817783862798, 0.9768817783862798, 0.9768817783862798, 0.9768817783862798, 0.9768817783862798, 0.9768817783862798, 0.9768817783862798, 0.9768817783862798, 0.9768817783862798, 0.9768817783862798, 0.9768817783862798, 0.9768817783862798, 0.9768817783862798, 0.9768817783862798, 0.9768817783862798, 0.9768817783862798, 0.9768817783862798, 0.9768817783862798, 0.9768817783862798, 0.9768817783862798, 0.9768817783862798, 0.9768817783862798, 0.9768817783862798, 0.9915372221763198, 0.9915372221763198]}], \"average_precision_score_macro\": [{\"categories\": [\"0\", \"1\", \"2\", \"3\", \"4\", \"5\", \"6\", \"7\", \"8\", \"9\", \"10\", \"11\", \"12\", \"13\", \"14\", \"15\", \"16\", \"17\", \"18\", \"19\", \"20\", \"21\", \"22\", \"23\", \"24\", \"25\", \"26\", \"27\", \"28\", \"29\", \"30\", \"31\", \"32\", \"33\", \"34\", \"35\", \"38\", \"39\"], \"mode\": \"markers\", \"name\": \"average_precision_score_macro\", \"stepped\": false, \"type\": \"scatter\", \"data\": [0.9940377103764121, 0.9947309617068225, 0.9864341278852505, 0.9844387691515208, 0.9909716521657679, 0.9849450472958811, 0.99510375795318, 0.9936521451812276, 0.9861153523596936, 0.9863994856677136, 0.954690994454704, 0.9939365722899668, 0.9708720883981565, 0.9867189916491087, 0.9040616113847133, 0.9925582493009033, 0.9855394285765984, 0.9830482907410891, 0.9673326130052404, 0.9889321706566536, 0.9816785395516222, 0.9696380765426026, 0.9517084363275139, 0.9937194914785895, 0.9707061293349035, 0.6685920632988009, 0.9879582349214637, 0.993963940181076, 0.994636802718331, 0.980850681377686, 0.5039564770499882, 0.9920040048214984, 0.9861169801861009, 0.9836536529592739, 0.9876969420944913, 0.5402068003846751, 0.9953972970261404, 0.9949920261879406]}, {\"categories\": [\"0\", \"1\", \"2\", \"3\", \"4\", \"5\", \"6\", \"7\", \"8\", \"9\", \"10\", \"11\", \"12\", \"13\", \"14\", \"15\", \"16\", \"17\", \"18\", \"19\", \"20\", \"21\", \"22\", \"23\", \"24\", \"25\", \"26\", \"27\", \"28\", \"29\", \"30\", \"31\", \"32\", \"33\", \"34\", \"35\", \"38\", \"39\"], \"mode\": \"lines\", \"name\": \"average_precision_score_macro_max\", \"stepped\": true, \"type\": \"scatter\", \"data\": [0.9940377103764121, 0.9947309617068225, 0.9947309617068225, 0.9947309617068225, 0.9947309617068225, 0.9947309617068225, 0.99510375795318, 0.99510375795318, 0.99510375795318, 0.99510375795318, 0.99510375795318, 0.99510375795318, 0.99510375795318, 0.99510375795318, 0.99510375795318, 0.99510375795318, 0.99510375795318, 0.99510375795318, 0.99510375795318, 0.99510375795318, 0.99510375795318, 0.99510375795318, 0.99510375795318, 0.99510375795318, 0.99510375795318, 0.99510375795318, 0.99510375795318, 0.99510375795318, 0.99510375795318, 0.99510375795318, 0.99510375795318, 0.99510375795318, 0.99510375795318, 0.99510375795318, 0.99510375795318, 0.99510375795318, 0.9953972970261404, 0.9953972970261404]}], \"matthews_correlation\": [{\"categories\": [\"0\", \"1\", \"2\", \"3\", \"4\", \"5\", \"6\", \"7\", \"8\", \"9\", \"10\", \"11\", \"12\", \"13\", \"14\", \"15\", \"16\", \"17\", \"18\", \"19\", \"20\", \"21\", \"22\", \"23\", \"24\", \"25\", \"26\", \"27\", \"28\", \"29\", \"30\", \"31\", \"32\", \"33\", \"34\", \"35\", \"38\", \"39\"], \"mode\": \"markers\", \"name\": \"matthews_correlation\", \"stepped\": false, \"type\": \"scatter\", \"data\": [0.9361852142638225, 0.9323790533424183, 0.8903859616363045, 0.8697977217577266, 0.8986861024641508, 0.8528953879692525, 0.9474755640762398, 0.9396044500921883, 0.8806669087517216, 0.9038675924096147, 0.7568579048276736, 0.9332008727568736, 0.8161127420427896, 0.8964207631910911, 0.637766486359876, 0.9322313265287964, 0.888328922286677, 0.8421138597775949, 0.8471523347727125, 0.8908705292253837, 0.842044691812718, 0.7848101247514515, 0.7931390995498672, 0.9251385606554455, 0.8211216283904939, 0.15878556304916708, 0.8874901147342815, 0.9282523612927054, 0.9420558871676608, 0.8500108544143654, 0.0, 0.9287346728018383, 0.8852195171996033, 0.8547857705280177, 0.892049223355562, 0.0, 0.982086074461875, 0.9668420837932633]}, {\"categories\": [\"0\", \"1\", \"2\", \"3\", \"4\", \"5\", \"6\", \"7\", \"8\", \"9\", \"10\", \"11\", \"12\", \"13\", \"14\", \"15\", \"16\", \"17\", \"18\", \"19\", \"20\", \"21\", \"22\", \"23\", \"24\", \"25\", \"26\", \"27\", \"28\", \"29\", \"30\", \"31\", \"32\", \"33\", \"34\", \"35\", \"38\", \"39\"], \"mode\": \"lines\", \"name\": \"matthews_correlation_max\", \"stepped\": true, \"type\": \"scatter\", \"data\": [0.9361852142638225, 0.9361852142638225, 0.9361852142638225, 0.9361852142638225, 0.9361852142638225, 0.9361852142638225, 0.9474755640762398, 0.9474755640762398, 0.9474755640762398, 0.9474755640762398, 0.9474755640762398, 0.9474755640762398, 0.9474755640762398, 0.9474755640762398, 0.9474755640762398, 0.9474755640762398, 0.9474755640762398, 0.9474755640762398, 0.9474755640762398, 0.9474755640762398, 0.9474755640762398, 0.9474755640762398, 0.9474755640762398, 0.9474755640762398, 0.9474755640762398, 0.9474755640762398, 0.9474755640762398, 0.9474755640762398, 0.9474755640762398, 0.9474755640762398, 0.9474755640762398, 0.9474755640762398, 0.9474755640762398, 0.9474755640762398, 0.9474755640762398, 0.9474755640762398, 0.982086074461875, 0.982086074461875]}], \"precision_score_macro\": [{\"categories\": [\"0\", \"1\", \"2\", \"3\", \"4\", \"5\", \"6\", \"7\", \"8\", \"9\", \"10\", \"11\", \"12\", \"13\", \"14\", \"15\", \"16\", \"17\", \"18\", \"19\", \"20\", \"21\", \"22\", \"23\", \"24\", \"25\", \"26\", \"27\", \"28\", \"29\", \"30\", \"31\", \"32\", \"33\", \"34\", \"35\", \"38\", \"39\"], \"mode\": \"markers\", \"name\": \"precision_score_macro\", \"stepped\": false, \"type\": \"scatter\", \"data\": [0.973610649955581, 0.9695557476743023, 0.9463192638945557, 0.9371734977383983, 0.9482476440627726, 0.9313406766868623, 0.9716913953756061, 0.9729305683351737, 0.9427526358591996, 0.9591864209442239, 0.8879731171578156, 0.9716854049261338, 0.9167130962487796, 0.953240264486975, 0.8616061543237377, 0.967916295452719, 0.9501320338340801, 0.9268337594998318, 0.9290393406819554, 0.9499559109571349, 0.9273570934469104, 0.896485640233518, 0.9106523799285812, 0.965853125209583, 0.9264188996219888, 0.6211636941301021, 0.945621630112359, 0.9671163446406714, 0.9735221093313198, 0.9323879770536454, 0.31367481203007525, 0.9681370505027795, 0.9478943343148611, 0.9282585360607541, 0.9515634783365046, 0.30402568922305767, 0.9923626373626373, 0.9838495544416597]}, {\"categories\": [\"0\", \"1\", \"2\", \"3\", \"4\", \"5\", \"6\", \"7\", \"8\", \"9\", \"10\", \"11\", \"12\", \"13\", \"14\", \"15\", \"16\", \"17\", \"18\", \"19\", \"20\", \"21\", \"22\", \"23\", \"24\", \"25\", \"26\", \"27\", \"28\", \"29\", \"30\", \"31\", \"32\", \"33\", \"34\", \"35\", \"38\", \"39\"], \"mode\": \"lines\", \"name\": \"precision_score_macro_max\", \"stepped\": true, \"type\": \"scatter\", \"data\": [0.973610649955581, 0.973610649955581, 0.973610649955581, 0.973610649955581, 0.973610649955581, 0.973610649955581, 0.973610649955581, 0.973610649955581, 0.973610649955581, 0.973610649955581, 0.973610649955581, 0.973610649955581, 0.973610649955581, 0.973610649955581, 0.973610649955581, 0.973610649955581, 0.973610649955581, 0.973610649955581, 0.973610649955581, 0.973610649955581, 0.973610649955581, 0.973610649955581, 0.973610649955581, 0.973610649955581, 0.973610649955581, 0.973610649955581, 0.973610649955581, 0.973610649955581, 0.973610649955581, 0.973610649955581, 0.973610649955581, 0.973610649955581, 0.973610649955581, 0.973610649955581, 0.973610649955581, 0.973610649955581, 0.9923626373626373, 0.9923626373626373]}], \"accuracy\": [{\"categories\": [\"0\", \"1\", \"2\", \"3\", \"4\", \"5\", \"6\", \"7\", \"8\", \"9\", \"10\", \"11\", \"12\", \"13\", \"14\", \"15\", \"16\", \"17\", \"18\", \"19\", \"20\", \"21\", \"22\", \"23\", \"24\", \"25\", \"26\", \"27\", \"28\", \"29\", \"30\", \"31\", \"32\", \"33\", \"34\", \"35\", \"38\", \"39\"], \"mode\": \"markers\", \"name\": \"accuracy\", \"stepped\": false, \"type\": \"scatter\", \"data\": [0.970081453634085, 0.968295739348371, 0.9489974937343358, 0.9384398496240604, 0.9524749373433584, 0.9313909774436089, 0.975344611528822, 0.9717731829573936, 0.9437343358395991, 0.9542606516290727, 0.887374686716792, 0.9683270676691729, 0.9173872180451127, 0.9507205513784461, 0.8294486215538848, 0.968295739348371, 0.9472744360902257, 0.9278822055137844, 0.9279135338345865, 0.948966165413534, 0.9278822055137844, 0.9015977443609022, 0.9050751879699247, 0.9647869674185463, 0.9190476190476191, 0.650125313283208, 0.9472431077694236, 0.9665100250626567, 0.9718045112781957, 0.9313909774436089, 0.6273496240601505, 0.9665726817042606, 0.9454260651629072, 0.931484962406015, 0.9489974937343358, 0.6080513784461153, 0.9911654135338346, 0.9841478696741854]}, {\"categories\": [\"0\", \"1\", \"2\", \"3\", \"4\", \"5\", \"6\", \"7\", \"8\", \"9\", \"10\", \"11\", \"12\", \"13\", \"14\", \"15\", \"16\", \"17\", \"18\", \"19\", \"20\", \"21\", \"22\", \"23\", \"24\", \"25\", \"26\", \"27\", \"28\", \"29\", \"30\", \"31\", \"32\", \"33\", \"34\", \"35\", \"38\", \"39\"], \"mode\": \"lines\", \"name\": \"accuracy_max\", \"stepped\": true, \"type\": \"scatter\", \"data\": [0.970081453634085, 0.970081453634085, 0.970081453634085, 0.970081453634085, 0.970081453634085, 0.970081453634085, 0.975344611528822, 0.975344611528822, 0.975344611528822, 0.975344611528822, 0.975344611528822, 0.975344611528822, 0.975344611528822, 0.975344611528822, 0.975344611528822, 0.975344611528822, 0.975344611528822, 0.975344611528822, 0.975344611528822, 0.975344611528822, 0.975344611528822, 0.975344611528822, 0.975344611528822, 0.975344611528822, 0.975344611528822, 0.975344611528822, 0.975344611528822, 0.975344611528822, 0.975344611528822, 0.975344611528822, 0.975344611528822, 0.975344611528822, 0.975344611528822, 0.975344611528822, 0.975344611528822, 0.975344611528822, 0.9911654135338346, 0.9911654135338346]}], \"weighted_accuracy\": [{\"categories\": [\"0\", \"1\", \"2\", \"3\", \"4\", \"5\", \"6\", \"7\", \"8\", \"9\", \"10\", \"11\", \"12\", \"13\", \"14\", \"15\", \"16\", \"17\", \"18\", \"19\", \"20\", \"21\", \"22\", \"23\", \"24\", \"25\", \"26\", \"27\", \"28\", \"29\", \"30\", \"31\", \"32\", \"33\", \"34\", \"35\", \"38\", \"39\"], \"mode\": \"markers\", \"name\": \"weighted_accuracy\", \"stepped\": false, \"type\": \"scatter\", \"data\": [0.9759291493509265, 0.9723495534492042, 0.953032370430706, 0.9430632982393652, 0.9539550144446908, 0.9391998649457047, 0.9753226175251152, 0.9757088259399229, 0.9484249756881793, 0.9617308062234752, 0.8997995459044816, 0.9735481010767912, 0.9302903712118986, 0.9565488389245976, 0.8679794447125297, 0.9714933437806292, 0.9545372620595478, 0.9367721359758427, 0.9353317961280299, 0.9553812145280274, 0.9371615113829499, 0.9115265094596309, 0.9216895667656783, 0.9690517769915894, 0.9368484678257433, 0.7278350959644552, 0.9515678291170049, 0.9708817454759391, 0.9747475916333095, 0.941167449237693, 0.7314563038651748, 0.9712094217481848, 0.951803497082332, 0.9354355773998482, 0.9556075080639331, 0.6942456213725932, 0.9924864435619192, 0.9852947976287553]}, {\"categories\": [\"0\", \"1\", \"2\", \"3\", \"4\", \"5\", \"6\", \"7\", \"8\", \"9\", \"10\", \"11\", \"12\", \"13\", \"14\", \"15\", \"16\", \"17\", \"18\", \"19\", \"20\", \"21\", \"22\", \"23\", \"24\", \"25\", \"26\", \"27\", \"28\", \"29\", \"30\", \"31\", \"32\", \"33\", \"34\", \"35\", \"38\", \"39\"], \"mode\": \"lines\", \"name\": \"weighted_accuracy_max\", \"stepped\": true, \"type\": \"scatter\", \"data\": [0.9759291493509265, 0.9759291493509265, 0.9759291493509265, 0.9759291493509265, 0.9759291493509265, 0.9759291493509265, 0.9759291493509265, 0.9759291493509265, 0.9759291493509265, 0.9759291493509265, 0.9759291493509265, 0.9759291493509265, 0.9759291493509265, 0.9759291493509265, 0.9759291493509265, 0.9759291493509265, 0.9759291493509265, 0.9759291493509265, 0.9759291493509265, 0.9759291493509265, 0.9759291493509265, 0.9759291493509265, 0.9759291493509265, 0.9759291493509265, 0.9759291493509265, 0.9759291493509265, 0.9759291493509265, 0.9759291493509265, 0.9759291493509265, 0.9759291493509265, 0.9759291493509265, 0.9759291493509265, 0.9759291493509265, 0.9759291493509265, 0.9759291493509265, 0.9759291493509265, 0.9924864435619192, 0.9924864435619192]}], \"average_precision_score_weighted\": [{\"categories\": [\"0\", \"1\", \"2\", \"3\", \"4\", \"5\", \"6\", \"7\", \"8\", \"9\", \"10\", \"11\", \"12\", \"13\", \"14\", \"15\", \"16\", \"17\", \"18\", \"19\", \"20\", \"21\", \"22\", \"23\", \"24\", \"25\", \"26\", \"27\", \"28\", \"29\", \"30\", \"31\", \"32\", \"33\", \"34\", \"35\", \"38\", \"39\"], \"mode\": \"markers\", \"name\": \"average_precision_score_weighted\", \"stepped\": false, \"type\": \"scatter\", \"data\": [0.994353561137449, 0.9949607159493279, 0.9874003853668395, 0.9857932250066602, 0.9919058198307431, 0.9866660747804478, 0.9952636268828166, 0.9942548616684288, 0.9872523648629224, 0.9871264094481056, 0.9602728512064805, 0.9941711837421977, 0.9754760576882997, 0.9879009533941703, 0.9123883145085602, 0.993371126380753, 0.9867863255126071, 0.9851749515869319, 0.970766929074619, 0.9900137408659979, 0.9839914505505449, 0.9741409794080071, 0.9560555919540372, 0.9941354838969435, 0.9750711431133026, 0.6884733553310074, 0.9891776368351322, 0.9942996605940438, 0.9948203809804028, 0.9831494694566022, 0.5332161365478466, 0.9927958655117886, 0.9870934885977662, 0.9849132120526164, 0.9886747866479044, 0.5688143345579346, 0.9953153170442832, 0.9948826310832606]}, {\"categories\": [\"0\", \"1\", \"2\", \"3\", \"4\", \"5\", \"6\", \"7\", \"8\", \"9\", \"10\", \"11\", \"12\", \"13\", \"14\", \"15\", \"16\", \"17\", \"18\", \"19\", \"20\", \"21\", \"22\", \"23\", \"24\", \"25\", \"26\", \"27\", \"28\", \"29\", \"30\", \"31\", \"32\", \"33\", \"34\", \"35\", \"38\", \"39\"], \"mode\": \"lines\", \"name\": \"average_precision_score_weighted_max\", \"stepped\": true, \"type\": \"scatter\", \"data\": [0.994353561137449, 0.9949607159493279, 0.9949607159493279, 0.9949607159493279, 0.9949607159493279, 0.9949607159493279, 0.9952636268828166, 0.9952636268828166, 0.9952636268828166, 0.9952636268828166, 0.9952636268828166, 0.9952636268828166, 0.9952636268828166, 0.9952636268828166, 0.9952636268828166, 0.9952636268828166, 0.9952636268828166, 0.9952636268828166, 0.9952636268828166, 0.9952636268828166, 0.9952636268828166, 0.9952636268828166, 0.9952636268828166, 0.9952636268828166, 0.9952636268828166, 0.9952636268828166, 0.9952636268828166, 0.9952636268828166, 0.9952636268828166, 0.9952636268828166, 0.9952636268828166, 0.9952636268828166, 0.9952636268828166, 0.9952636268828166, 0.9952636268828166, 0.9952636268828166, 0.9953153170442832, 0.9953153170442832]}], \"balanced_accuracy\": [{\"categories\": [\"0\", \"1\", \"2\", \"3\", \"4\", \"5\", \"6\", \"7\", \"8\", \"9\", \"10\", \"11\", \"12\", \"13\", \"14\", \"15\", \"16\", \"17\", \"18\", \"19\", \"20\", \"21\", \"22\", \"23\", \"24\", \"25\", \"26\", \"27\", \"28\", \"29\", \"30\", \"31\", \"32\", \"33\", \"34\", \"35\", \"38\", \"39\"], \"mode\": \"markers\", \"name\": \"balanced_accuracy\", \"stepped\": false, \"type\": \"scatter\", \"data\": [0.9627296758725785, 0.9629472609303171, 0.9442983997334276, 0.9332521063837085, 0.9505412254855617, 0.9217702280651079, 0.9759356598158604, 0.9667517599625978, 0.9380556219297855, 0.9452179234874247, 0.8700499946404678, 0.9616897875679846, 0.8998632551323624, 0.9435300086396634, 0.7826663083448197, 0.9644234839266437, 0.9385597840645794, 0.9156715705418979, 0.9183480892533001, 0.941437126006425, 0.9150677058075983, 0.8885133642383167, 0.883465108774055, 0.9593824718911035, 0.8957197870658176, 0.5540982132548258, 0.9422484629187851, 0.9612748352779953, 0.9686728547108983, 0.9181174863573789, 0.5, 0.9607008862133541, 0.9376223534928778, 0.9268975824667217, 0.9408215309311856, 0.5, 0.9897418478260869, 0.9830459688931186]}, {\"categories\": [\"0\", \"1\", \"2\", \"3\", \"4\", \"5\", \"6\", \"7\", \"8\", \"9\", \"10\", \"11\", \"12\", \"13\", \"14\", \"15\", \"16\", \"17\", \"18\", \"19\", \"20\", \"21\", \"22\", \"23\", \"24\", \"25\", \"26\", \"27\", \"28\", \"29\", \"30\", \"31\", \"32\", \"33\", \"34\", \"35\", \"38\", \"39\"], \"mode\": \"lines\", \"name\": \"balanced_accuracy_max\", \"stepped\": true, \"type\": \"scatter\", \"data\": [0.9627296758725785, 0.9629472609303171, 0.9629472609303171, 0.9629472609303171, 0.9629472609303171, 0.9629472609303171, 0.9759356598158604, 0.9759356598158604, 0.9759356598158604, 0.9759356598158604, 0.9759356598158604, 0.9759356598158604, 0.9759356598158604, 0.9759356598158604, 0.9759356598158604, 0.9759356598158604, 0.9759356598158604, 0.9759356598158604, 0.9759356598158604, 0.9759356598158604, 0.9759356598158604, 0.9759356598158604, 0.9759356598158604, 0.9759356598158604, 0.9759356598158604, 0.9759356598158604, 0.9759356598158604, 0.9759356598158604, 0.9759356598158604, 0.9759356598158604, 0.9759356598158604, 0.9759356598158604, 0.9759356598158604, 0.9759356598158604, 0.9759356598158604, 0.9759356598158604, 0.9897418478260869, 0.9897418478260869]}]}, \"metricName\": null, \"primaryMetricName\": \"accuracy\", \"showLegend\": false}, \"run_metrics\": [{\"name\": \"experiment_status\", \"run_id\": \"AutoML_12a2f61d-ce1e-4634-88f4-b91f78a3128a\", \"categories\": [0, 1, 2, 3, 4, 5, 6, 7, 8, 9, 10, 11, 12, 13], \"series\": [{\"data\": [\"DatasetEvaluation\", \"FeaturesGeneration\", \"DatasetFeaturization\", \"DatasetFeaturizationCompleted\", \"DatasetCrossValidationSplit\", \"ModelSelection\", \"BestRunExplainModel\", \"ModelExplanationDataSetSetup\", \"PickSurrogateModel\", \"EngineeredFeatureExplanations\", \"EngineeredFeatureExplanations\", \"RawFeaturesExplanations\", \"RawFeaturesExplanations\", \"BestRunExplainModel\"]}]}, {\"name\": \"experiment_status_description\", \"run_id\": \"AutoML_12a2f61d-ce1e-4634-88f4-b91f78a3128a\", \"categories\": [0, 1, 2, 3, 4, 5, 6, 7, 8, 9, 10, 11, 12, 13], \"series\": [{\"data\": [\"Gathering dataset statistics.\", \"Generating features for the dataset.\", \"Beginning to fit featurizers and featurize the dataset.\", \"Completed fit featurizers and featurizing the dataset.\", \"Generating individually featurized CV splits.\", \"Beginning model selection.\", \"Best run model explanations started\", \"Model explanations data setup completed\", \"Choosing LightGBM as the surrogate model for explanations\", \"Computation of engineered features started\", \"Computation of engineered features completed\", \"Computation of raw features started\", \"Computation of raw features completed\", \"Best run model explanations completed\"]}]}, {\"name\": \"recall_score_macro\", \"run_id\": \"AutoML_12a2f61d-ce1e-4634-88f4-b91f78a3128a\", \"categories\": [0], \"series\": [{\"data\": [0.9897418478260869]}]}, {\"name\": \"precision_score_micro\", \"run_id\": \"AutoML_12a2f61d-ce1e-4634-88f4-b91f78a3128a\", \"categories\": [0], \"series\": [{\"data\": [0.9911654135338346]}]}, {\"name\": \"AUC_weighted\", \"run_id\": \"AutoML_12a2f61d-ce1e-4634-88f4-b91f78a3128a\", \"categories\": [0], \"series\": [{\"data\": [0.995111543827017]}]}, {\"name\": \"average_precision_score_macro\", \"run_id\": \"AutoML_12a2f61d-ce1e-4634-88f4-b91f78a3128a\", \"categories\": [0], \"series\": [{\"data\": [0.9953972970261404]}]}, {\"name\": \"AUC_macro\", \"run_id\": \"AutoML_12a2f61d-ce1e-4634-88f4-b91f78a3128a\", \"categories\": [0], \"series\": [{\"data\": [0.995111543827017]}]}, {\"name\": \"average_precision_score_weighted\", \"run_id\": \"AutoML_12a2f61d-ce1e-4634-88f4-b91f78a3128a\", \"categories\": [0], \"series\": [{\"data\": [0.9953153170442832]}]}, {\"name\": \"log_loss\", \"run_id\": \"AutoML_12a2f61d-ce1e-4634-88f4-b91f78a3128a\", \"categories\": [0], \"series\": [{\"data\": [0.10714999288513587]}]}, {\"name\": \"accuracy\", \"run_id\": \"AutoML_12a2f61d-ce1e-4634-88f4-b91f78a3128a\", \"categories\": [0], \"series\": [{\"data\": [0.9911654135338346]}]}, {\"name\": \"precision_score_weighted\", \"run_id\": \"AutoML_12a2f61d-ce1e-4634-88f4-b91f78a3128a\", \"categories\": [0], \"series\": [{\"data\": [0.9915372221763198]}]}, {\"name\": \"precision_score_macro\", \"run_id\": \"AutoML_12a2f61d-ce1e-4634-88f4-b91f78a3128a\", \"categories\": [0], \"series\": [{\"data\": [0.9923626373626373]}]}, {\"name\": \"f1_score_weighted\", \"run_id\": \"AutoML_12a2f61d-ce1e-4634-88f4-b91f78a3128a\", \"categories\": [0], \"series\": [{\"data\": [0.9911264814041095]}]}, {\"name\": \"f1_score_macro\", \"run_id\": \"AutoML_12a2f61d-ce1e-4634-88f4-b91f78a3128a\", \"categories\": [0], \"series\": [{\"data\": [0.9908111439569242]}]}, {\"name\": \"balanced_accuracy\", \"run_id\": \"AutoML_12a2f61d-ce1e-4634-88f4-b91f78a3128a\", \"categories\": [0], \"series\": [{\"data\": [0.9897418478260869]}]}, {\"name\": \"f1_score_micro\", \"run_id\": \"AutoML_12a2f61d-ce1e-4634-88f4-b91f78a3128a\", \"categories\": [0], \"series\": [{\"data\": [0.9911654135338346]}]}, {\"name\": \"weighted_accuracy\", \"run_id\": \"AutoML_12a2f61d-ce1e-4634-88f4-b91f78a3128a\", \"categories\": [0], \"series\": [{\"data\": [0.9924864435619192]}]}, {\"name\": \"norm_macro_recall\", \"run_id\": \"AutoML_12a2f61d-ce1e-4634-88f4-b91f78a3128a\", \"categories\": [0], \"series\": [{\"data\": [0.9794836956521739]}]}, {\"name\": \"average_precision_score_micro\", \"run_id\": \"AutoML_12a2f61d-ce1e-4634-88f4-b91f78a3128a\", \"categories\": [0], \"series\": [{\"data\": [0.9942729909305132]}]}, {\"name\": \"recall_score_micro\", \"run_id\": \"AutoML_12a2f61d-ce1e-4634-88f4-b91f78a3128a\", \"categories\": [0], \"series\": [{\"data\": [0.9911654135338346]}]}, {\"name\": \"matthews_correlation\", \"run_id\": \"AutoML_12a2f61d-ce1e-4634-88f4-b91f78a3128a\", \"categories\": [0], \"series\": [{\"data\": [0.982086074461875]}]}, {\"name\": \"AUC_micro\", \"run_id\": \"AutoML_12a2f61d-ce1e-4634-88f4-b91f78a3128a\", \"categories\": [0], \"series\": [{\"data\": [0.9950507338207675]}]}, {\"name\": \"recall_score_weighted\", \"run_id\": \"AutoML_12a2f61d-ce1e-4634-88f4-b91f78a3128a\", \"categories\": [0], \"series\": [{\"data\": [0.9911654135338346]}]}], \"run_logs\": \"\\nRun is completed.\", \"graph\": {}, \"widget_settings\": {\"childWidgetDisplay\": \"popup\", \"send_telemetry\": false, \"log_level\": \"INFO\", \"sdk_version\": \"1.20.0\"}, \"loading\": false}"
          },
          "metadata": {}
        },
        {
          "output_type": "stream",
          "name": "stdout",
          "text": [
            "\n",
            "\n",
            "****************************************************************************************************\n",
            "DATA GUARDRAILS: \n",
            "\n",
            "TYPE:         Cross validation\n",
            "STATUS:       DONE\n",
            "DESCRIPTION:  Each iteration of the trained model was validated through cross-validation.\n",
            "              \n",
            "DETAILS:      \n",
            "+---------------------------------+\n",
            "|Number of folds                  |\n",
            "+=================================+\n",
            "|10                               |\n",
            "+---------------------------------+\n",
            "\n",
            "****************************************************************************************************\n",
            "\n",
            "TYPE:         Class balancing detection\n",
            "STATUS:       PASSED\n",
            "DESCRIPTION:  Your inputs were analyzed, and all classes are balanced in your training data.\n",
            "              Learn more about imbalanced data: https://aka.ms/AutomatedMLImbalancedData\n",
            "\n",
            "****************************************************************************************************\n",
            "\n",
            "TYPE:         Missing feature values imputation\n",
            "STATUS:       PASSED\n",
            "DESCRIPTION:  No feature missing values were detected in the training data.\n",
            "              Learn more about missing value imputation: https://aka.ms/AutomatedMLFeaturization\n",
            "\n",
            "****************************************************************************************************\n",
            "\n",
            "TYPE:         High cardinality feature detection\n",
            "STATUS:       PASSED\n",
            "DESCRIPTION:  Your inputs were analyzed, and no high cardinality features were detected.\n",
            "              Learn more about high cardinality feature handling: https://aka.ms/AutomatedMLFeaturization\n",
            "\n",
            "****************************************************************************************************\n",
            "\n",
            "****************************************************************************************************\n",
            "ITERATION: The iteration being evaluated.\n",
            "PIPELINE: A summary description of the pipeline being evaluated.\n",
            "DURATION: Time taken for the current iteration.\n",
            "METRIC: The result of computing score on the fitted pipeline.\n",
            "BEST: The best observed score thus far.\n",
            "****************************************************************************************************\n",
            "\n",
            " ITERATION   PIPELINE                                       DURATION      METRIC      BEST\n",
            "         0   MaxAbsScaler LightGBM                          0:01:00       0.9701    0.9701\n",
            "         1   MaxAbsScaler XGBoostClassifier                 0:00:58       0.9683    0.9701\n",
            "         2   MinMaxScaler RandomForest                      0:03:31       0.9490    0.9701\n",
            "         3   MinMaxScaler RandomForest                      0:03:29       0.9384    0.9701\n",
            "         4   MinMaxScaler RandomForest                      0:00:59       0.9525    0.9701\n",
            "         5   SparseNormalizer XGBoostClassifier             0:00:58       0.9314    0.9701\n",
            "         6   StandardScalerWrapper LogisticRegression       0:00:54       0.9753    0.9753\n",
            "         7   MaxAbsScaler LightGBM                          0:00:51       0.9718    0.9753\n",
            "         8   SparseNormalizer XGBoostClassifier             0:00:54       0.9437    0.9753\n",
            "         9   MaxAbsScaler LightGBM                          0:00:46       0.9543    0.9753\n",
            "        10   SparseNormalizer LightGBM                      0:00:49       0.8874    0.9753\n",
            "        11   RobustScaler GradientBoosting                  0:01:01       0.9683    0.9753\n",
            "        12   SparseNormalizer XGBoostClassifier             0:01:00       0.9174    0.9753\n",
            "        13   MinMaxScaler LightGBM                          0:00:54       0.9507    0.9753\n",
            "        14   RobustScaler KNN                               0:01:01       0.8294    0.9753\n",
            "        15   MinMaxScaler LightGBM                          0:00:58       0.9683    0.9753\n",
            "        16   RobustScaler LightGBM                          0:00:46       0.9473    0.9753\n",
            "        17   SparseNormalizer XGBoostClassifier             0:00:51       0.9279    0.9753\n",
            "        18   SparseNormalizer XGBoostClassifier             0:00:53       0.9279    0.9753\n",
            "        19   StandardScalerWrapper LightGBM                 0:00:53       0.9490    0.9753\n",
            "        20   SparseNormalizer XGBoostClassifier             0:00:51       0.9279    0.9753\n",
            "        21   SparseNormalizer XGBoostClassifier             0:00:58       0.9016    0.9753\n",
            "        22   SparseNormalizer XGBoostClassifier             0:00:51       0.9051    0.9753\n",
            "        23   MaxAbsScaler LightGBM                          0:00:54       0.9648    0.9753\n",
            "        24   SparseNormalizer LightGBM                      0:01:00       0.9190    0.9753\n",
            "        25   SparseNormalizer LogisticRegression            0:01:02       0.6501    0.9753\n",
            "        26   RobustScaler RandomForest                      0:01:09       0.9472    0.9753\n",
            "        27   MinMaxScaler LightGBM                          0:00:58       0.9665    0.9753\n",
            "        28   StandardScalerWrapper LightGBM                 0:00:59       0.9718    0.9753\n",
            "        29   SparseNormalizer XGBoostClassifier             0:01:00       0.9314    0.9753\n",
            "        30   PCA LogisticRegression                         0:00:58       0.6273    0.9753\n",
            "        31   StandardScalerWrapper LightGBM                 0:00:56       0.9666    0.9753\n",
            "        32   StandardScalerWrapper LightGBM                 0:00:55       0.9454    0.9753\n",
            "        33   MinMaxScaler RandomForest                      0:01:08       0.9315    0.9753\n",
            "        34   MinMaxScaler LightGBM                          0:00:59       0.9490    0.9753\n",
            "        35   TruncatedSVDWrapper LogisticRegression         0:00:43       0.6081    0.9753\n",
            "        36   StandardScalerWrapper XGBoostClassifier        0:00:30          nan    0.9753\n",
            "        37                                                  0:00:32          nan    0.9753\n",
            "        38    VotingEnsemble                                0:01:56       0.9912    0.9912\n",
            "        39    StackEnsemble                                 0:01:55       0.9841    0.9912\n"
          ]
        }
      ],
      "execution_count": 10,
      "metadata": {
        "gather": {
          "logged": 1612703935725
        },
        "jupyter": {
          "outputs_hidden": false,
          "source_hidden": false
        },
        "nteract": {
          "transient": {
            "deleting": false
          }
        }
      }
    },
    {
      "cell_type": "markdown",
      "source": [
        "## Best Model\n",
        "\n",
        "TODO: In the cell below, get the best model from the automl experiments and display all the properties of the model.\n",
        "\n"
      ],
      "metadata": {}
    },
    {
      "cell_type": "code",
      "source": [
        "## Retrieving best automl model\n",
        "automl_best_run, fitted_model = automl_run.get_output()\n",
        "best_metrics = automl_best_run.get_metrics()\n",
        "\n",
        "print('best_metrics')\n",
        "print(best_metrics)\n",
        "\n",
        "print('fitted_model')\n",
        "print(fitted_model)\n",
        "\n",
        "print('automl_best_run')\n",
        "print(automl_best_run)"
      ],
      "outputs": [
        {
          "output_type": "stream",
          "name": "stderr",
          "text": [
            "WARNING:root:The version of the SDK does not match the version the model was trained on.\n",
            "WARNING:root:The consistency in the result may not be guaranteed.\n",
            "WARNING:root:Package:azureml-automl-core, training version:1.21.0, current version:1.20.0\n",
            "Package:azureml-automl-runtime, training version:1.21.0, current version:1.20.0\n",
            "Package:azureml-core, training version:1.21.0.post1, current version:1.20.0\n",
            "Package:azureml-dataprep, training version:2.8.2, current version:2.7.3\n",
            "Package:azureml-dataprep-native, training version:28.0.0, current version:27.0.0\n",
            "Package:azureml-dataprep-rslex, training version:1.6.0, current version:1.5.0\n",
            "Package:azureml-dataset-runtime, training version:1.21.0, current version:1.20.0\n",
            "Package:azureml-defaults, training version:1.21.0, current version:1.20.0\n",
            "Package:azureml-interpret, training version:1.21.0, current version:1.20.0\n",
            "Package:azureml-pipeline-core, training version:1.21.0, current version:1.20.0\n",
            "Package:azureml-telemetry, training version:1.21.0, current version:1.20.0\n",
            "Package:azureml-train-automl-client, training version:1.21.0, current version:1.20.0\n",
            "Package:azureml-train-automl-runtime, training version:1.21.0, current version:1.20.0\n",
            "WARNING:root:Please ensure the version of your local conda dependencies match the version on which your model was trained in order to properly retrieve your model.\n"
          ]
        },
        {
          "output_type": "stream",
          "name": "stdout",
          "text": [
            "best_metrics\n",
            "{'AUC_micro': 0.9950507338207675, 'recall_score_weighted': 0.9911654135338346, 'matthews_correlation': 0.982086074461875, 'precision_score_micro': 0.9911654135338346, 'average_precision_score_macro': 0.9953972970261404, 'recall_score_micro': 0.9911654135338346, 'average_precision_score_micro': 0.9942729909305132, 'norm_macro_recall': 0.9794836956521739, 'weighted_accuracy': 0.9924864435619192, 'f1_score_micro': 0.9911654135338346, 'balanced_accuracy': 0.9897418478260869, 'precision_score_macro': 0.9923626373626373, 'f1_score_macro': 0.9908111439569242, 'f1_score_weighted': 0.9911264814041095, 'recall_score_macro': 0.9897418478260869, 'log_loss': 0.10714999288513587, 'precision_score_weighted': 0.9915372221763198, 'accuracy': 0.9911654135338346, 'average_precision_score_weighted': 0.9953153170442832, 'AUC_weighted': 0.995111543827017, 'AUC_macro': 0.995111543827017, 'accuracy_table': 'aml://artifactId/ExperimentRun/dcid.AutoML_12a2f61d-ce1e-4634-88f4-b91f78a3128a_38/accuracy_table', 'confusion_matrix': 'aml://artifactId/ExperimentRun/dcid.AutoML_12a2f61d-ce1e-4634-88f4-b91f78a3128a_38/confusion_matrix'}\n",
            "fitted_model\n",
            "Pipeline(memory=None,\n",
            "         steps=[('datatransformer',\n",
            "                 DataTransformer(enable_dnn=None, enable_feature_sweeping=None,\n",
            "                                 feature_sweeping_config=None,\n",
            "                                 feature_sweeping_timeout=None,\n",
            "                                 featurization_config=None, force_text_dnn=None,\n",
            "                                 is_cross_validation=None,\n",
            "                                 is_onnx_compatible=None, logger=None,\n",
            "                                 observer=None, task=None, working_dir=None)),\n",
            "                ('prefittedsoftvotingclassifier',...\n",
            "                                                                                               max_depth=8,\n",
            "                                                                                               max_leaves=0,\n",
            "                                                                                               min_child_weight=1,\n",
            "                                                                                               missing=nan,\n",
            "                                                                                               n_estimators=10,\n",
            "                                                                                               n_jobs=1,\n",
            "                                                                                               nthread=None,\n",
            "                                                                                               objective='reg:logistic',\n",
            "                                                                                               random_state=0,\n",
            "                                                                                               reg_alpha=0,\n",
            "                                                                                               reg_lambda=1.5625,\n",
            "                                                                                               scale_pos_weight=1,\n",
            "                                                                                               seed=None,\n",
            "                                                                                               silent=None,\n",
            "                                                                                               subsample=0.5,\n",
            "                                                                                               tree_method='auto',\n",
            "                                                                                               verbose=-10,\n",
            "                                                                                               verbosity=0))],\n",
            "                                                                     verbose=False))],\n",
            "                                               flatten_transform=None,\n",
            "                                               weights=[0.4, 0.1, 0.1, 0.1, 0.1,\n",
            "                                                        0.1, 0.1]))],\n",
            "         verbose=False)\n",
            "Y_transformer(['LabelEncoder', LabelEncoder()])\n",
            "automl_best_run\n",
            "Run(Experiment: automl_test_experiment,\n",
            "Id: AutoML_12a2f61d-ce1e-4634-88f4-b91f78a3128a_38,\n",
            "Type: azureml.scriptrun,\n",
            "Status: Completed)\n"
          ]
        }
      ],
      "execution_count": 11,
      "metadata": {
        "gather": {
          "logged": 1612703963644
        },
        "jupyter": {
          "outputs_hidden": false,
          "source_hidden": false
        },
        "nteract": {
          "transient": {
            "deleting": false
          }
        }
      }
    },
    {
      "cell_type": "code",
      "source": [
        "\n",
        "## Saving best automl model\n",
        "best_run_model_name = 'Udacity-automl-model'\n",
        "best_run_model_path = 'outputs/model'\n",
        "model = automl_run.register_model(model_name=best_run_model_name)\n",
        "print(model)"
      ],
      "outputs": [
        {
          "output_type": "stream",
          "name": "stdout",
          "text": [
            "Model(workspace=Workspace.create(name='quick-starts-ws-137837', subscription_id='6b4af8be-9931-443e-90f6-c4c34a1f9737', resource_group='aml-quickstarts-137837'), name=Udacity-automl-model, id=Udacity-automl-model:1, version=1, tags={}, properties={})\n"
          ]
        }
      ],
      "execution_count": 12,
      "metadata": {
        "collapsed": true,
        "gather": {
          "logged": 1612703988974
        },
        "jupyter": {
          "outputs_hidden": false,
          "source_hidden": false
        },
        "nteract": {
          "transient": {
            "deleting": false
          }
        }
      }
    },
    {
      "cell_type": "markdown",
      "source": [
        "## Model Deployment\n",
        "\n",
        "Remember you have to deploy only one of the two models you trained.. Perform the steps in the rest of this notebook only if you wish to deploy this model.\n",
        "\n",
        "TODO: In the cell below, register the model, create an inference config and deploy the model as a web service."
      ],
      "metadata": {}
    },
    {
      "cell_type": "code",
      "source": [
        "from azureml.core import Model\n",
        "from azureml.core.webservice import AciWebservice\n",
        "\n",
        "env = automl_best_run.get_environment()    \n",
        "\n",
        "inference_config = InferenceConfig(entry_script='score.py',\n",
        "                                   environment=env)\n",
        "\n",
        "deployment_config = AciWebservice.deploy_configuration(cpu_cores = 1, memory_gb = 1,enable_app_insights=True,auth_enabled=True)\n",
        "\n",
        "service = Model.deploy(ws, \"breastcancer-service2\", [model], inference_config, deployment_config)\n",
        "service.wait_for_deployment(show_output = True)\n",
        "print(service.state)\n",
        "\n",
        "scoring_uri = service.scoring_uri\n",
        "print(scoring_uri)\n",
        "\n",
        "primary_key, secondary_key = service.get_keys()\n",
        "print(primary_key)"
      ],
      "outputs": [
        {
          "output_type": "stream",
          "name": "stdout",
          "text": [
            "Tips: You can try get_logs(): https://aka.ms/debugimage#dockerlog or local deployment: https://aka.ms/debugimage#debug-locally to debug if deployment takes longer than 10 minutes.\n",
            "Running......................................\n",
            "Succeeded\n",
            "ACI service creation operation finished, operation \"Succeeded\"\n",
            "Healthy\n",
            "http://b0ea0a89-36af-488d-bdce-e44929060892.southcentralus.azurecontainer.io/score\n",
            "vbZfAUJJi6BYe23iBcTfSP3hHd0yfz4g\n"
          ]
        }
      ],
      "execution_count": 13,
      "metadata": {
        "gather": {
          "logged": 1612704213512
        },
        "jupyter": {
          "outputs_hidden": false,
          "source_hidden": false
        },
        "nteract": {
          "transient": {
            "deleting": false
          }
        },
        "scrolled": true
      }
    },
    {
      "cell_type": "markdown",
      "source": [
        "TODO: In the cell below, send a request to the web service you deployed to test it."
      ],
      "metadata": {
        "collapsed": true,
        "gather": {
          "logged": 1598431657736
        },
        "jupyter": {
          "outputs_hidden": false,
          "source_hidden": false
        },
        "nteract": {
          "transient": {
            "deleting": false
          }
        }
      }
    },
    {
      "cell_type": "code",
      "source": [
        "input_data = json.dumps({\n",
        "    'data': dataset_score[0:2].to_dict(orient= 'records')\n",
        "})\n",
        "print(input_data)"
      ],
      "outputs": [
        {
          "output_type": "stream",
          "name": "stdout",
          "text": [
            "{\"data\": [{\"id\": 842302, \"radius_mean\": 17.99, \"texture_mean\": 10.38, \"perimeter_mean\": 122.8, \"area_mean\": 1001.0, \"smoothness_mean\": 0.1184, \"compactness_mean\": 0.2776, \"concavity_mean\": 0.3001, \"concave points_mean\": 0.1471, \"symmetry_mean\": 0.2419, \"fractal_dimension_mean\": 0.07871, \"radius_se\": 1.095, \"texture_se\": 0.9053, \"perimeter_se\": 8.589, \"area_se\": 153.4, \"smoothness_se\": 0.006399, \"compactness_se\": 0.04904, \"concavity_se\": 0.05373, \"concave points_se\": 0.01587, \"symmetry_se\": 0.03003, \"fractal_dimension_se\": 0.006193, \"radius_worst\": 25.38, \"texture_worst\": 17.33, \"perimeter_worst\": 184.6, \"area_worst\": 2019.0, \"smoothness_worst\": 0.1622, \"compactness_worst\": 0.6656, \"concavity_worst\": 0.7119, \"concave points_worst\": 0.2654, \"symmetry_worst\": 0.4601, \"fractal_dimension_worst\": 0.1189}, {\"id\": 842517, \"radius_mean\": 20.57, \"texture_mean\": 17.77, \"perimeter_mean\": 132.9, \"area_mean\": 1326.0, \"smoothness_mean\": 0.08474, \"compactness_mean\": 0.07864, \"concavity_mean\": 0.0869, \"concave points_mean\": 0.07017, \"symmetry_mean\": 0.1812, \"fractal_dimension_mean\": 0.05667, \"radius_se\": 0.5435, \"texture_se\": 0.7339, \"perimeter_se\": 3.398, \"area_se\": 74.08, \"smoothness_se\": 0.005225, \"compactness_se\": 0.01308, \"concavity_se\": 0.0186, \"concave points_se\": 0.0134, \"symmetry_se\": 0.01389, \"fractal_dimension_se\": 0.003532, \"radius_worst\": 24.99, \"texture_worst\": 23.41, \"perimeter_worst\": 158.8, \"area_worst\": 1956.0, \"smoothness_worst\": 0.1238, \"compactness_worst\": 0.1866, \"concavity_worst\": 0.2416, \"concave points_worst\": 0.186, \"symmetry_worst\": 0.275, \"fractal_dimension_worst\": 0.08902}]}\n"
          ]
        }
      ],
      "execution_count": 14,
      "metadata": {
        "gather": {
          "logged": 1612704281269
        },
        "jupyter": {
          "outputs_hidden": false,
          "source_hidden": false
        },
        "nteract": {
          "transient": {
            "deleting": false
          }
        }
      }
    },
    {
      "cell_type": "code",
      "source": [
        "# output_data = service.run(input_data)\n",
        "\n",
        "## Generate HTTP Post request for the web service\n",
        "\n",
        "# Set content type\n",
        "headers = {'Content-Type': 'application/json'}\n",
        "\n",
        "# As authentication is enabled, set the authorization header\n",
        "headers['Authorization'] = f'Bearer {primary_key}'\n",
        "\n",
        "# Make the request and display the response\n",
        "response = requests.post(scoring_uri, input_data, headers=headers)\n",
        "output_data = response.text\n",
        "\n",
        "print(output_data)"
      ],
      "outputs": [
        {
          "output_type": "stream",
          "name": "stdout",
          "text": [
            "[\"M\", \"M\"]\n"
          ]
        }
      ],
      "execution_count": 15,
      "metadata": {
        "gather": {
          "logged": 1612704287613
        }
      }
    },
    {
      "cell_type": "code",
      "source": [
        "## Create env.yml\n",
        "#Environment(name='myenv')\n",
        "#myenv = Environment.save_to_directory(path=project_folder, overwrite=False)\n",
        "env_file = project_folder + '/env/'\n",
        "env.save_to_directory(path=env_file, overwrite=False)"
      ],
      "outputs": [],
      "execution_count": 22,
      "metadata": {
        "collapsed": true,
        "jupyter": {
          "outputs_hidden": false,
          "source_hidden": false
        },
        "nteract": {
          "transient": {
            "deleting": false
          }
        },
        "gather": {
          "logged": 1612705162587
        }
      }
    },
    {
      "cell_type": "markdown",
      "source": [
        "TODO: In the cell below, print the logs of the web service and delete the service"
      ],
      "metadata": {
        "collapsed": true,
        "gather": {
          "logged": 1598432765711
        },
        "jupyter": {
          "outputs_hidden": false,
          "source_hidden": false
        },
        "nteract": {
          "transient": {
            "deleting": false
          }
        }
      }
    },
    {
      "cell_type": "code",
      "source": [
        "## Print logs\n",
        "print(service.get_logs())\n",
        "\n",
        "## Delete service\n",
        "#service.delete()"
      ],
      "outputs": [
        {
          "output_type": "stream",
          "name": "stdout",
          "text": [
            "2021-02-07T13:23:20,034289668+00:00 - iot-server/run \n",
            "2021-02-07T13:23:20,034580069+00:00 - rsyslog/run \n",
            "2021-02-07T13:23:20,037676688+00:00 - gunicorn/run \n",
            "2021-02-07T13:23:20,037966990+00:00 - nginx/run \n",
            "/usr/sbin/nginx: /azureml-envs/azureml_20a8278aa8b20dd48cc50f56a6d2586c/lib/libcrypto.so.1.0.0: no version information available (required by /usr/sbin/nginx)\n",
            "/usr/sbin/nginx: /azureml-envs/azureml_20a8278aa8b20dd48cc50f56a6d2586c/lib/libcrypto.so.1.0.0: no version information available (required by /usr/sbin/nginx)\n",
            "/usr/sbin/nginx: /azureml-envs/azureml_20a8278aa8b20dd48cc50f56a6d2586c/lib/libssl.so.1.0.0: no version information available (required by /usr/sbin/nginx)\n",
            "/usr/sbin/nginx: /azureml-envs/azureml_20a8278aa8b20dd48cc50f56a6d2586c/lib/libssl.so.1.0.0: no version information available (required by /usr/sbin/nginx)\n",
            "/usr/sbin/nginx: /azureml-envs/azureml_20a8278aa8b20dd48cc50f56a6d2586c/lib/libssl.so.1.0.0: no version information available (required by /usr/sbin/nginx)\n",
            "rsyslogd: /azureml-envs/azureml_20a8278aa8b20dd48cc50f56a6d2586c/lib/libuuid.so.1: no version information available (required by rsyslogd)\n",
            "EdgeHubConnectionString and IOTEDGE_IOTHUBHOSTNAME are not set. Exiting...\n",
            "2021-02-07T13:23:20,174851826+00:00 - iot-server/finish 1 0\n",
            "2021-02-07T13:23:20,176627637+00:00 - Exit code 1 is normal. Not restarting iot-server.\n",
            "Starting gunicorn 19.9.0\n",
            "Listening at: http://127.0.0.1:31311 (14)\n",
            "Using worker: sync\n",
            "worker timeout is set to 300\n",
            "Booting worker with pid: 42\n",
            "SPARK_HOME not set. Skipping PySpark Initialization.\n",
            "Generating new fontManager, this may take some time...\n",
            "Initializing logger\n",
            "2021-02-07 13:23:23,577 | root | INFO | Starting up app insights client\n",
            "2021-02-07 13:23:23,578 | root | INFO | Starting up request id generator\n",
            "2021-02-07 13:23:23,578 | root | INFO | Starting up app insight hooks\n",
            "2021-02-07 13:23:23,578 | root | INFO | Invoking user's init function\n",
            "2021-02-07 13:23:25,550 | root | INFO | Users's init has completed successfully\n",
            "2021-02-07 13:23:25,553 | root | INFO | Skipping middleware: dbg_model_info as it's not enabled.\n",
            "2021-02-07 13:23:25,553 | root | INFO | Skipping middleware: dbg_resource_usage as it's not enabled.\n",
            "2021-02-07 13:23:25,554 | root | INFO | Scoring timeout is found from os.environ: 60000 ms\n",
            "2021-02-07 13:23:29,120 | root | INFO | Swagger file not present\n",
            "2021-02-07 13:23:29,121 | root | INFO | 404\n",
            "127.0.0.1 - - [07/Feb/2021:13:23:29 +0000] \"GET /swagger.json HTTP/1.0\" 404 19 \"-\" \"Go-http-client/1.1\"\n",
            "2021-02-07 13:23:32,264 | root | INFO | Swagger file not present\n",
            "2021-02-07 13:23:32,264 | root | INFO | 404\n",
            "127.0.0.1 - - [07/Feb/2021:13:23:32 +0000] \"GET /swagger.json HTTP/1.0\" 404 19 \"-\" \"Go-http-client/1.1\"\n",
            "2021-02-07 13:24:47,253 | root | INFO | Validation Request Content-Type\n",
            "2021-02-07 13:24:47,253 | root | INFO | Scoring Timer is set to 60.0 seconds\n",
            "2021-02-07 13:24:47,348 | root | INFO | 200\n",
            "127.0.0.1 - - [07/Feb/2021:13:24:47 +0000] \"POST /score HTTP/1.0\" 200 10 \"-\" \"python-requests/2.25.1\"\n",
            "\n"
          ]
        }
      ],
      "execution_count": 23,
      "metadata": {
        "gather": {
          "logged": 1612705268167
        },
        "jupyter": {
          "outputs_hidden": false,
          "source_hidden": false
        },
        "nteract": {
          "transient": {
            "deleting": false
          }
        }
      }
    },
    {
      "cell_type": "code",
      "source": [
        "compute_target.delete()"
      ],
      "outputs": [],
      "execution_count": null,
      "metadata": {
        "collapsed": true,
        "jupyter": {
          "outputs_hidden": false,
          "source_hidden": false
        },
        "nteract": {
          "transient": {
            "deleting": false
          }
        }
      }
    }
  ],
  "metadata": {
    "kernel_info": {
      "name": "python3"
    },
    "kernelspec": {
      "name": "python3",
      "language": "python",
      "display_name": "Python 3"
    },
    "language_info": {
      "name": "python",
      "version": "3.6.9",
      "mimetype": "text/x-python",
      "codemirror_mode": {
        "name": "ipython",
        "version": 3
      },
      "pygments_lexer": "ipython3",
      "nbconvert_exporter": "python",
      "file_extension": ".py"
    },
    "nteract": {
      "version": "nteract-front-end@1.0.0"
    }
  },
  "nbformat": 4,
  "nbformat_minor": 2
}